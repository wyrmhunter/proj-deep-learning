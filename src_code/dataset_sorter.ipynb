{
 "cells": [
  {
   "cell_type": "markdown",
   "metadata": {},
   "source": [
    "# Etude statistique du dataset\n",
    "Lien vers le dataset que nous avons choisi :\n"
   ]
  },
  {
   "cell_type": "code",
   "execution_count": 2,
   "metadata": {},
   "outputs": [
    {
     "name": "stdout",
     "output_type": "stream",
     "text": [
      "^C\n",
      "Requirement already satisfied: pandas in c:\\users\\cytech student\\appdata\\roaming\\python\\python38\\site-packages (2.0.3)\n",
      "Requirement already satisfied: python-dateutil>=2.8.2 in c:\\users\\cytech student\\appdata\\roaming\\python\\python38\\site-packages (from pandas) (2.8.2)\n",
      "Requirement already satisfied: pytz>=2020.1 in c:\\users\\cytech student\\appdata\\roaming\\python\\python38\\site-packages (from pandas) (2023.3.post1)\n",
      "Requirement already satisfied: tzdata>=2022.1 in c:\\users\\cytech student\\appdata\\roaming\\python\\python38\\site-packages (from pandas) (2023.3)\n",
      "Requirement already satisfied: numpy>=1.20.3 in c:\\users\\cytech student\\appdata\\roaming\\python\\python38\\site-packages (from pandas) (1.22.3)\n",
      "Requirement already satisfied: six>=1.5 in c:\\users\\cytech student\\appdata\\roaming\\python\\python38\\site-packages (from python-dateutil>=2.8.2->pandas) (1.16.0)\n"
     ]
    },
    {
     "name": "stderr",
     "output_type": "stream",
     "text": [
      "DEPRECATION: pyodbc 4.0.0-unsupported has a non-standard version number. pip 24.0 will enforce this behaviour change. A possible replacement is to upgrade to a newer version of pyodbc or contact the author to suggest that they release a version with a conforming version number. Discussion can be found at https://github.com/pypa/pip/issues/12063\n",
      "\n",
      "[notice] A new release of pip is available: 23.3.1 -> 23.3.2\n",
      "[notice] To update, run: python.exe -m pip install --upgrade pip\n"
     ]
    },
    {
     "name": "stdout",
     "output_type": "stream",
     "text": [
      "Requirement already satisfied: matplotlib in c:\\users\\cytech student\\appdata\\roaming\\python\\python38\\site-packages (3.5.1)\n",
      "Requirement already satisfied: cycler>=0.10 in c:\\users\\cytech student\\appdata\\roaming\\python\\python38\\site-packages (from matplotlib) (0.11.0)\n",
      "Requirement already satisfied: fonttools>=4.22.0 in c:\\users\\cytech student\\appdata\\roaming\\python\\python38\\site-packages (from matplotlib) (4.30.0)\n",
      "Requirement already satisfied: kiwisolver>=1.0.1 in c:\\users\\cytech student\\appdata\\roaming\\python\\python38\\site-packages (from matplotlib) (1.3.2)\n",
      "Requirement already satisfied: numpy>=1.17 in c:\\users\\cytech student\\appdata\\roaming\\python\\python38\\site-packages (from matplotlib) (1.22.3)\n",
      "Requirement already satisfied: packaging>=20.0 in c:\\users\\cytech student\\appdata\\roaming\\python\\python38\\site-packages (from matplotlib) (21.3)\n",
      "Requirement already satisfied: pillow>=6.2.0 in c:\\users\\cytech student\\appdata\\roaming\\python\\python38\\site-packages (from matplotlib) (9.0.1)\n",
      "Requirement already satisfied: pyparsing>=2.2.1 in c:\\users\\cytech student\\appdata\\roaming\\python\\python38\\site-packages (from matplotlib) (3.0.7)\n",
      "Requirement already satisfied: python-dateutil>=2.7 in c:\\users\\cytech student\\appdata\\roaming\\python\\python38\\site-packages (from matplotlib) (2.8.2)\n",
      "Requirement already satisfied: six>=1.5 in c:\\users\\cytech student\\appdata\\roaming\\python\\python38\\site-packages (from python-dateutil>=2.7->matplotlib) (1.16.0)\n"
     ]
    },
    {
     "name": "stderr",
     "output_type": "stream",
     "text": [
      "DEPRECATION: pyodbc 4.0.0-unsupported has a non-standard version number. pip 24.0 will enforce this behaviour change. A possible replacement is to upgrade to a newer version of pyodbc or contact the author to suggest that they release a version with a conforming version number. Discussion can be found at https://github.com/pypa/pip/issues/12063\n",
      "\n",
      "[notice] A new release of pip is available: 23.3.1 -> 23.3.2\n",
      "[notice] To update, run: python.exe -m pip install --upgrade pip\n"
     ]
    },
    {
     "name": "stdout",
     "output_type": "stream",
     "text": [
      "Requirement already satisfied: pillow in c:\\users\\cytech student\\appdata\\roaming\\python\\python38\\site-packages (9.0.1)\n"
     ]
    },
    {
     "name": "stderr",
     "output_type": "stream",
     "text": [
      "DEPRECATION: pyodbc 4.0.0-unsupported has a non-standard version number. pip 24.0 will enforce this behaviour change. A possible replacement is to upgrade to a newer version of pyodbc or contact the author to suggest that they release a version with a conforming version number. Discussion can be found at https://github.com/pypa/pip/issues/12063\n",
      "\n",
      "[notice] A new release of pip is available: 23.3.1 -> 23.3.2\n",
      "[notice] To update, run: python.exe -m pip install --upgrade pip\n"
     ]
    }
   ],
   "source": [
    "# Installation des librairies nécessaires :\n",
    "! pip install pandas\n",
    "! pip install matplotlib\n",
    "! pip install pillow"
   ]
  },
  {
   "cell_type": "code",
   "execution_count": 3,
   "metadata": {},
   "outputs": [
    {
     "name": "stderr",
     "output_type": "stream",
     "text": [
      "C:\\Users\\CYTech Student\\AppData\\Roaming\\Python\\Python38\\site-packages\\pandas\\core\\computation\\expressions.py:20: UserWarning: Pandas requires version '2.7.3' or newer of 'numexpr' (version '2.7.1' currently installed).\n",
      "  from pandas.core.computation.check import NUMEXPR_INSTALLED\n"
     ]
    }
   ],
   "source": [
    "# On a un fichier de texte parent_child_rel.txt contenant des informations les informations suivantes :\n",
    "# {id du style architectural parent} {id du style architectural enfant}\n",
    "\n",
    "# On a un autre fichier style_names.txt contenant :\n",
    "# {id du style architectural} {nom du style architectural}\n",
    "\n",
    "# On souhaite créer un dataframe contenant :\n",
    "# -id du style architectural parent\n",
    "# -nom du style architectural parent\n",
    "# -id du style architectural enfant\n",
    "# -nom du style architectural enfant\n",
    "\n",
    "parent_child_rel = '../dataset_doc/parent_child_rel.txt'\n",
    "style_names = '../dataset_doc/style_names.txt'\n",
    "\n",
    "import pandas as pd\n",
    "\n",
    "def get_parent_child_rel(rel_file, names_file):\n",
    "    # On ouvre le fichier contenant les relations parent-enfant\n",
    "    with open(rel_file, 'r') as f:\n",
    "        rel = f.readlines()\n",
    "    # On ouvre le fichier contenant les noms des styles architecturaux\n",
    "    with open(names_file, 'r') as f:\n",
    "        names = f.readlines()\n",
    "\n",
    "    # On crée un dictionnaire contenant l'id et le nom des styles architecturaux\n",
    "    names_dict = {}\n",
    "    for name in names:\n",
    "        name = name.split()\n",
    "        names_dict[name[0]] = name[1]\n",
    "\n",
    "    # On crée un dict contenant les relations parent-enfant\n",
    "    rel_dict = {}\n",
    "    for relation in rel:\n",
    "        relation = relation.split()\n",
    "        rel_dict[relation[0]] = relation[1]\n",
    "\n",
    "    # On crée un dataframe contenant les relations parent-enfant avec deux colonnes : parent et child\n",
    "    df = pd.DataFrame.from_dict(rel_dict, orient='index',columns=['child_id']).reset_index()\n",
    "    # On renomme la colonne index en parent_id\n",
    "    df = df.rename(columns={'index':'parent_id'})\n",
    "\n",
    "    # On ajoute une colonne contenant le nom du style architectural enfant\n",
    "    df['child_name'] = df['child_id'].map(names_dict)\n",
    "\n",
    "\n",
    "    # On ajoute une colonne contenant le nom du style architectural parent\n",
    "    df['parent_name'] = df['parent_id'].map(names_dict)\n",
    "\n",
    "    # On réarrange les colonnes selon cet ordre : parent_id, parent_name, child_id, child_name\n",
    "    df = df[['parent_id', 'parent_name', 'child_id', 'child_name']]\n",
    "\n",
    "    # On retourne le dataframe\n",
    "    return df\n",
    "    \n"
   ]
  },
  {
   "cell_type": "code",
   "execution_count": 5,
   "metadata": {},
   "outputs": [
    {
     "data": {
      "text/html": [
       "<div>\n",
       "<style scoped>\n",
       "    .dataframe tbody tr th:only-of-type {\n",
       "        vertical-align: middle;\n",
       "    }\n",
       "\n",
       "    .dataframe tbody tr th {\n",
       "        vertical-align: top;\n",
       "    }\n",
       "\n",
       "    .dataframe thead th {\n",
       "        text-align: right;\n",
       "    }\n",
       "</style>\n",
       "<table border=\"1\" class=\"dataframe\">\n",
       "  <thead>\n",
       "    <tr style=\"text-align: right;\">\n",
       "      <th></th>\n",
       "      <th>parent_id</th>\n",
       "      <th>parent_name</th>\n",
       "      <th>child_id</th>\n",
       "      <th>child_name</th>\n",
       "    </tr>\n",
       "  </thead>\n",
       "  <tbody>\n",
       "    <tr>\n",
       "      <th>0</th>\n",
       "      <td>Q750752</td>\n",
       "      <td>English</td>\n",
       "      <td>Q15609295</td>\n",
       "      <td>Perpendicular</td>\n",
       "    </tr>\n",
       "    <tr>\n",
       "      <th>1</th>\n",
       "      <td>Q176483</td>\n",
       "      <td>Gothic</td>\n",
       "      <td>Q695863</td>\n",
       "      <td>Brick</td>\n",
       "    </tr>\n",
       "    <tr>\n",
       "      <th>2</th>\n",
       "      <td>Q236122</td>\n",
       "      <td>Renaissance</td>\n",
       "      <td>Q502163</td>\n",
       "      <td>Renaissance</td>\n",
       "    </tr>\n",
       "    <tr>\n",
       "      <th>3</th>\n",
       "      <td>Q840829</td>\n",
       "      <td>Baroque</td>\n",
       "      <td>Q21564105</td>\n",
       "      <td>Rococo</td>\n",
       "    </tr>\n",
       "    <tr>\n",
       "      <th>4</th>\n",
       "      <td>Q46261</td>\n",
       "      <td>Romanesque</td>\n",
       "      <td>Q744373</td>\n",
       "      <td>Romanesque</td>\n",
       "    </tr>\n",
       "  </tbody>\n",
       "</table>\n",
       "</div>"
      ],
      "text/plain": [
       "  parent_id  parent_name   child_id     child_name\n",
       "0   Q750752      English  Q15609295  Perpendicular\n",
       "1   Q176483       Gothic    Q695863          Brick\n",
       "2   Q236122  Renaissance    Q502163    Renaissance\n",
       "3   Q840829      Baroque  Q21564105         Rococo\n",
       "4    Q46261   Romanesque    Q744373     Romanesque"
      ]
     },
     "metadata": {},
     "output_type": "display_data"
    }
   ],
   "source": [
    "# On crée un dataframe contenant les relations parent-enfant\n",
    "df_rel = get_parent_child_rel(parent_child_rel, style_names)\n",
    "display(df_rel.head())"
   ]
  },
  {
   "cell_type": "code",
   "execution_count": 4,
   "metadata": {},
   "outputs": [],
   "source": [
    "test_txt = '../sets/wc4_test.txt'\n",
    "train_txt = '../sets/wc4_train.txt'\n",
    "trainval_txt = '../sets/wc4_trainval.txt'\n",
    "val_txt = '../sets/wc4_val.txt'\n",
    "\n",
    "# Chacun des fichiers texte ci-dessus contient :\n",
    "#{nom du fichier image} {id du style architectural enfant}"
   ]
  },
  {
   "cell_type": "code",
   "execution_count": 6,
   "metadata": {},
   "outputs": [],
   "source": [
    "# On créé une fonction qui prend en argument un fichier texte et qui retourne un dataframe contenant :\n",
    "# -le nom du fichier image\n",
    "# -l'id du style architectural parent\n",
    "\n",
    "def get_img_parent_style(txt_file):\n",
    "    # On ouvre le fichier texte\n",
    "    with open(txt_file, 'r') as f:\n",
    "        txt = f.readlines()\n",
    "\n",
    "    # On crée un dictionnaire contenant le nom du fichier image et l'id du style architectural enfant\n",
    "    txt_dict = {}\n",
    "    for line in txt:\n",
    "        line = line.split()\n",
    "        txt_dict[line[0]] = line[1]\n",
    "\n",
    "    # On crée un dataframe à partir du dictionnaire\n",
    "    df_in = pd.DataFrame.from_dict(txt_dict, orient='index',columns=['parent_id']).reset_index()\n",
    "    # On renomme la colonne index en img_name\n",
    "    df_in = df_in.rename(columns={'index':'img_name'})\n",
    "\n",
    "    # On compare les id du style architectural parent avec ceux du dataframe contenant les relations parent-enfant et on ajoute une colonne contenant le nom du style architectural parent\n",
    "    df_in['parent_name'] = df_in['parent_id'].map(df_rel.set_index('parent_id')['parent_name'])\n",
    "\n",
    "    # On retourne le dataframe\n",
    "    return df_in"
   ]
  },
  {
   "cell_type": "code",
   "execution_count": 7,
   "metadata": {},
   "outputs": [
    {
     "name": "stdout",
     "output_type": "stream",
     "text": [
      "train set\n"
     ]
    },
    {
     "data": {
      "text/html": [
       "<div>\n",
       "<style scoped>\n",
       "    .dataframe tbody tr th:only-of-type {\n",
       "        vertical-align: middle;\n",
       "    }\n",
       "\n",
       "    .dataframe tbody tr th {\n",
       "        vertical-align: top;\n",
       "    }\n",
       "\n",
       "    .dataframe thead th {\n",
       "        text-align: right;\n",
       "    }\n",
       "</style>\n",
       "<table border=\"1\" class=\"dataframe\">\n",
       "  <thead>\n",
       "    <tr style=\"text-align: right;\">\n",
       "      <th></th>\n",
       "      <th>img_name</th>\n",
       "      <th>parent_id</th>\n",
       "      <th>parent_name</th>\n",
       "    </tr>\n",
       "  </thead>\n",
       "  <tbody>\n",
       "    <tr>\n",
       "      <th>0</th>\n",
       "      <td>Q21716735_wd0.jpg</td>\n",
       "      <td>Q840829</td>\n",
       "      <td>Baroque</td>\n",
       "    </tr>\n",
       "    <tr>\n",
       "      <th>1</th>\n",
       "      <td>Q20730233_wd0.jpg</td>\n",
       "      <td>Q840829</td>\n",
       "      <td>Baroque</td>\n",
       "    </tr>\n",
       "    <tr>\n",
       "      <th>2</th>\n",
       "      <td>Q2317509_wd0.jpg</td>\n",
       "      <td>Q840829</td>\n",
       "      <td>Baroque</td>\n",
       "    </tr>\n",
       "    <tr>\n",
       "      <th>3</th>\n",
       "      <td>Q1897745_wd0.jpg</td>\n",
       "      <td>Q840829</td>\n",
       "      <td>Baroque</td>\n",
       "    </tr>\n",
       "    <tr>\n",
       "      <th>4</th>\n",
       "      <td>Q20754132_wd0.jpg</td>\n",
       "      <td>Q840829</td>\n",
       "      <td>Baroque</td>\n",
       "    </tr>\n",
       "  </tbody>\n",
       "</table>\n",
       "</div>"
      ],
      "text/plain": [
       "            img_name parent_id parent_name\n",
       "0  Q21716735_wd0.jpg   Q840829     Baroque\n",
       "1  Q20730233_wd0.jpg   Q840829     Baroque\n",
       "2   Q2317509_wd0.jpg   Q840829     Baroque\n",
       "3   Q1897745_wd0.jpg   Q840829     Baroque\n",
       "4  Q20754132_wd0.jpg   Q840829     Baroque"
      ]
     },
     "metadata": {},
     "output_type": "display_data"
    },
    {
     "data": {
      "text/html": [
       "<div>\n",
       "<style scoped>\n",
       "    .dataframe tbody tr th:only-of-type {\n",
       "        vertical-align: middle;\n",
       "    }\n",
       "\n",
       "    .dataframe tbody tr th {\n",
       "        vertical-align: top;\n",
       "    }\n",
       "\n",
       "    .dataframe thead th {\n",
       "        text-align: right;\n",
       "    }\n",
       "</style>\n",
       "<table border=\"1\" class=\"dataframe\">\n",
       "  <thead>\n",
       "    <tr style=\"text-align: right;\">\n",
       "      <th></th>\n",
       "      <th>img_name</th>\n",
       "      <th>parent_id</th>\n",
       "      <th>parent_name</th>\n",
       "    </tr>\n",
       "  </thead>\n",
       "  <tbody>\n",
       "    <tr>\n",
       "      <th>5833</th>\n",
       "      <td>Q15953605_wd0.jpg</td>\n",
       "      <td>Q46261</td>\n",
       "      <td>Romanesque</td>\n",
       "    </tr>\n",
       "    <tr>\n",
       "      <th>5834</th>\n",
       "      <td>Q15806440_wd0.jpg</td>\n",
       "      <td>Q46261</td>\n",
       "      <td>Romanesque</td>\n",
       "    </tr>\n",
       "    <tr>\n",
       "      <th>5835</th>\n",
       "      <td>Q5836639_wd0.jpg</td>\n",
       "      <td>Q46261</td>\n",
       "      <td>Romanesque</td>\n",
       "    </tr>\n",
       "    <tr>\n",
       "      <th>5836</th>\n",
       "      <td>Q20656847_wd0.jpg</td>\n",
       "      <td>Q46261</td>\n",
       "      <td>Romanesque</td>\n",
       "    </tr>\n",
       "    <tr>\n",
       "      <th>5837</th>\n",
       "      <td>Q2315657_wd0.jpg</td>\n",
       "      <td>Q46261</td>\n",
       "      <td>Romanesque</td>\n",
       "    </tr>\n",
       "  </tbody>\n",
       "</table>\n",
       "</div>"
      ],
      "text/plain": [
       "               img_name parent_id parent_name\n",
       "5833  Q15953605_wd0.jpg    Q46261  Romanesque\n",
       "5834  Q15806440_wd0.jpg    Q46261  Romanesque\n",
       "5835   Q5836639_wd0.jpg    Q46261  Romanesque\n",
       "5836  Q20656847_wd0.jpg    Q46261  Romanesque\n",
       "5837   Q2315657_wd0.jpg    Q46261  Romanesque"
      ]
     },
     "metadata": {},
     "output_type": "display_data"
    },
    {
     "name": "stdout",
     "output_type": "stream",
     "text": [
      "train eval set\n"
     ]
    },
    {
     "data": {
      "text/html": [
       "<div>\n",
       "<style scoped>\n",
       "    .dataframe tbody tr th:only-of-type {\n",
       "        vertical-align: middle;\n",
       "    }\n",
       "\n",
       "    .dataframe tbody tr th {\n",
       "        vertical-align: top;\n",
       "    }\n",
       "\n",
       "    .dataframe thead th {\n",
       "        text-align: right;\n",
       "    }\n",
       "</style>\n",
       "<table border=\"1\" class=\"dataframe\">\n",
       "  <thead>\n",
       "    <tr style=\"text-align: right;\">\n",
       "      <th></th>\n",
       "      <th>img_name</th>\n",
       "      <th>parent_id</th>\n",
       "      <th>parent_name</th>\n",
       "    </tr>\n",
       "  </thead>\n",
       "  <tbody>\n",
       "    <tr>\n",
       "      <th>0</th>\n",
       "      <td>Q1415669_wd1.jpg</td>\n",
       "      <td>Q840829</td>\n",
       "      <td>Baroque</td>\n",
       "    </tr>\n",
       "    <tr>\n",
       "      <th>1</th>\n",
       "      <td>Q12030410_wd0.jpg</td>\n",
       "      <td>Q840829</td>\n",
       "      <td>Baroque</td>\n",
       "    </tr>\n",
       "    <tr>\n",
       "      <th>2</th>\n",
       "      <td>Q12031051_wd0.jpg</td>\n",
       "      <td>Q840829</td>\n",
       "      <td>Baroque</td>\n",
       "    </tr>\n",
       "    <tr>\n",
       "      <th>3</th>\n",
       "      <td>Q16320906_wd1.jpg</td>\n",
       "      <td>Q840829</td>\n",
       "      <td>Baroque</td>\n",
       "    </tr>\n",
       "    <tr>\n",
       "      <th>4</th>\n",
       "      <td>Q223413_wd0.jpg</td>\n",
       "      <td>Q840829</td>\n",
       "      <td>Baroque</td>\n",
       "    </tr>\n",
       "  </tbody>\n",
       "</table>\n",
       "</div>"
      ],
      "text/plain": [
       "            img_name parent_id parent_name\n",
       "0   Q1415669_wd1.jpg   Q840829     Baroque\n",
       "1  Q12030410_wd0.jpg   Q840829     Baroque\n",
       "2  Q12031051_wd0.jpg   Q840829     Baroque\n",
       "3  Q16320906_wd1.jpg   Q840829     Baroque\n",
       "4    Q223413_wd0.jpg   Q840829     Baroque"
      ]
     },
     "metadata": {},
     "output_type": "display_data"
    },
    {
     "data": {
      "text/html": [
       "<div>\n",
       "<style scoped>\n",
       "    .dataframe tbody tr th:only-of-type {\n",
       "        vertical-align: middle;\n",
       "    }\n",
       "\n",
       "    .dataframe tbody tr th {\n",
       "        vertical-align: top;\n",
       "    }\n",
       "\n",
       "    .dataframe thead th {\n",
       "        text-align: right;\n",
       "    }\n",
       "</style>\n",
       "<table border=\"1\" class=\"dataframe\">\n",
       "  <thead>\n",
       "    <tr style=\"text-align: right;\">\n",
       "      <th></th>\n",
       "      <th>img_name</th>\n",
       "      <th>parent_id</th>\n",
       "      <th>parent_name</th>\n",
       "    </tr>\n",
       "  </thead>\n",
       "  <tbody>\n",
       "    <tr>\n",
       "      <th>5833</th>\n",
       "      <td>Q15953605_wd0.jpg</td>\n",
       "      <td>Q46261</td>\n",
       "      <td>Romanesque</td>\n",
       "    </tr>\n",
       "    <tr>\n",
       "      <th>5834</th>\n",
       "      <td>Q15806440_wd0.jpg</td>\n",
       "      <td>Q46261</td>\n",
       "      <td>Romanesque</td>\n",
       "    </tr>\n",
       "    <tr>\n",
       "      <th>5835</th>\n",
       "      <td>Q5836639_wd0.jpg</td>\n",
       "      <td>Q46261</td>\n",
       "      <td>Romanesque</td>\n",
       "    </tr>\n",
       "    <tr>\n",
       "      <th>5836</th>\n",
       "      <td>Q20656847_wd0.jpg</td>\n",
       "      <td>Q46261</td>\n",
       "      <td>Romanesque</td>\n",
       "    </tr>\n",
       "    <tr>\n",
       "      <th>5837</th>\n",
       "      <td>Q2315657_wd0.jpg</td>\n",
       "      <td>Q46261</td>\n",
       "      <td>Romanesque</td>\n",
       "    </tr>\n",
       "  </tbody>\n",
       "</table>\n",
       "</div>"
      ],
      "text/plain": [
       "               img_name parent_id parent_name\n",
       "5833  Q15953605_wd0.jpg    Q46261  Romanesque\n",
       "5834  Q15806440_wd0.jpg    Q46261  Romanesque\n",
       "5835   Q5836639_wd0.jpg    Q46261  Romanesque\n",
       "5836  Q20656847_wd0.jpg    Q46261  Romanesque\n",
       "5837   Q2315657_wd0.jpg    Q46261  Romanesque"
      ]
     },
     "metadata": {},
     "output_type": "display_data"
    },
    {
     "name": "stdout",
     "output_type": "stream",
     "text": [
      "eval set\n"
     ]
    },
    {
     "data": {
      "text/html": [
       "<div>\n",
       "<style scoped>\n",
       "    .dataframe tbody tr th:only-of-type {\n",
       "        vertical-align: middle;\n",
       "    }\n",
       "\n",
       "    .dataframe tbody tr th {\n",
       "        vertical-align: top;\n",
       "    }\n",
       "\n",
       "    .dataframe thead th {\n",
       "        text-align: right;\n",
       "    }\n",
       "</style>\n",
       "<table border=\"1\" class=\"dataframe\">\n",
       "  <thead>\n",
       "    <tr style=\"text-align: right;\">\n",
       "      <th></th>\n",
       "      <th>img_name</th>\n",
       "      <th>parent_id</th>\n",
       "      <th>parent_name</th>\n",
       "    </tr>\n",
       "  </thead>\n",
       "  <tbody>\n",
       "    <tr>\n",
       "      <th>0</th>\n",
       "      <td>Q1415669_wd1.jpg</td>\n",
       "      <td>Q840829</td>\n",
       "      <td>Baroque</td>\n",
       "    </tr>\n",
       "    <tr>\n",
       "      <th>1</th>\n",
       "      <td>Q12030410_wd0.jpg</td>\n",
       "      <td>Q840829</td>\n",
       "      <td>Baroque</td>\n",
       "    </tr>\n",
       "    <tr>\n",
       "      <th>2</th>\n",
       "      <td>Q12031051_wd0.jpg</td>\n",
       "      <td>Q840829</td>\n",
       "      <td>Baroque</td>\n",
       "    </tr>\n",
       "    <tr>\n",
       "      <th>3</th>\n",
       "      <td>Q16320906_wd1.jpg</td>\n",
       "      <td>Q840829</td>\n",
       "      <td>Baroque</td>\n",
       "    </tr>\n",
       "    <tr>\n",
       "      <th>4</th>\n",
       "      <td>Q223413_wd0.jpg</td>\n",
       "      <td>Q840829</td>\n",
       "      <td>Baroque</td>\n",
       "    </tr>\n",
       "  </tbody>\n",
       "</table>\n",
       "</div>"
      ],
      "text/plain": [
       "            img_name parent_id parent_name\n",
       "0   Q1415669_wd1.jpg   Q840829     Baroque\n",
       "1  Q12030410_wd0.jpg   Q840829     Baroque\n",
       "2  Q12031051_wd0.jpg   Q840829     Baroque\n",
       "3  Q16320906_wd1.jpg   Q840829     Baroque\n",
       "4    Q223413_wd0.jpg   Q840829     Baroque"
      ]
     },
     "metadata": {},
     "output_type": "display_data"
    },
    {
     "data": {
      "text/html": [
       "<div>\n",
       "<style scoped>\n",
       "    .dataframe tbody tr th:only-of-type {\n",
       "        vertical-align: middle;\n",
       "    }\n",
       "\n",
       "    .dataframe tbody tr th {\n",
       "        vertical-align: top;\n",
       "    }\n",
       "\n",
       "    .dataframe thead th {\n",
       "        text-align: right;\n",
       "    }\n",
       "</style>\n",
       "<table border=\"1\" class=\"dataframe\">\n",
       "  <thead>\n",
       "    <tr style=\"text-align: right;\">\n",
       "      <th></th>\n",
       "      <th>img_name</th>\n",
       "      <th>parent_id</th>\n",
       "      <th>parent_name</th>\n",
       "    </tr>\n",
       "  </thead>\n",
       "  <tbody>\n",
       "    <tr>\n",
       "      <th>5833</th>\n",
       "      <td>Q15953605_wd0.jpg</td>\n",
       "      <td>Q46261</td>\n",
       "      <td>Romanesque</td>\n",
       "    </tr>\n",
       "    <tr>\n",
       "      <th>5834</th>\n",
       "      <td>Q15806440_wd0.jpg</td>\n",
       "      <td>Q46261</td>\n",
       "      <td>Romanesque</td>\n",
       "    </tr>\n",
       "    <tr>\n",
       "      <th>5835</th>\n",
       "      <td>Q5836639_wd0.jpg</td>\n",
       "      <td>Q46261</td>\n",
       "      <td>Romanesque</td>\n",
       "    </tr>\n",
       "    <tr>\n",
       "      <th>5836</th>\n",
       "      <td>Q20656847_wd0.jpg</td>\n",
       "      <td>Q46261</td>\n",
       "      <td>Romanesque</td>\n",
       "    </tr>\n",
       "    <tr>\n",
       "      <th>5837</th>\n",
       "      <td>Q2315657_wd0.jpg</td>\n",
       "      <td>Q46261</td>\n",
       "      <td>Romanesque</td>\n",
       "    </tr>\n",
       "  </tbody>\n",
       "</table>\n",
       "</div>"
      ],
      "text/plain": [
       "               img_name parent_id parent_name\n",
       "5833  Q15953605_wd0.jpg    Q46261  Romanesque\n",
       "5834  Q15806440_wd0.jpg    Q46261  Romanesque\n",
       "5835   Q5836639_wd0.jpg    Q46261  Romanesque\n",
       "5836  Q20656847_wd0.jpg    Q46261  Romanesque\n",
       "5837   Q2315657_wd0.jpg    Q46261  Romanesque"
      ]
     },
     "metadata": {},
     "output_type": "display_data"
    },
    {
     "name": "stdout",
     "output_type": "stream",
     "text": [
      "test set\n"
     ]
    },
    {
     "data": {
      "text/html": [
       "<div>\n",
       "<style scoped>\n",
       "    .dataframe tbody tr th:only-of-type {\n",
       "        vertical-align: middle;\n",
       "    }\n",
       "\n",
       "    .dataframe tbody tr th {\n",
       "        vertical-align: top;\n",
       "    }\n",
       "\n",
       "    .dataframe thead th {\n",
       "        text-align: right;\n",
       "    }\n",
       "</style>\n",
       "<table border=\"1\" class=\"dataframe\">\n",
       "  <thead>\n",
       "    <tr style=\"text-align: right;\">\n",
       "      <th></th>\n",
       "      <th>img_name</th>\n",
       "      <th>parent_id</th>\n",
       "      <th>parent_name</th>\n",
       "    </tr>\n",
       "  </thead>\n",
       "  <tbody>\n",
       "    <tr>\n",
       "      <th>0</th>\n",
       "      <td>Q2588857_wd0.jpg</td>\n",
       "      <td>Q840829</td>\n",
       "      <td>Baroque</td>\n",
       "    </tr>\n",
       "    <tr>\n",
       "      <th>1</th>\n",
       "      <td>Q626388_wd0.jpg</td>\n",
       "      <td>Q840829</td>\n",
       "      <td>Baroque</td>\n",
       "    </tr>\n",
       "    <tr>\n",
       "      <th>2</th>\n",
       "      <td>Q11985244_wd0.jpg</td>\n",
       "      <td>Q840829</td>\n",
       "      <td>Baroque</td>\n",
       "    </tr>\n",
       "    <tr>\n",
       "      <th>3</th>\n",
       "      <td>Q1561401_wd0.jpg</td>\n",
       "      <td>Q840829</td>\n",
       "      <td>Baroque</td>\n",
       "    </tr>\n",
       "    <tr>\n",
       "      <th>4</th>\n",
       "      <td>Q8406909_wd0.jpg</td>\n",
       "      <td>Q840829</td>\n",
       "      <td>Baroque</td>\n",
       "    </tr>\n",
       "  </tbody>\n",
       "</table>\n",
       "</div>"
      ],
      "text/plain": [
       "            img_name parent_id parent_name\n",
       "0   Q2588857_wd0.jpg   Q840829     Baroque\n",
       "1    Q626388_wd0.jpg   Q840829     Baroque\n",
       "2  Q11985244_wd0.jpg   Q840829     Baroque\n",
       "3   Q1561401_wd0.jpg   Q840829     Baroque\n",
       "4   Q8406909_wd0.jpg   Q840829     Baroque"
      ]
     },
     "metadata": {},
     "output_type": "display_data"
    },
    {
     "data": {
      "text/html": [
       "<div>\n",
       "<style scoped>\n",
       "    .dataframe tbody tr th:only-of-type {\n",
       "        vertical-align: middle;\n",
       "    }\n",
       "\n",
       "    .dataframe tbody tr th {\n",
       "        vertical-align: top;\n",
       "    }\n",
       "\n",
       "    .dataframe thead th {\n",
       "        text-align: right;\n",
       "    }\n",
       "</style>\n",
       "<table border=\"1\" class=\"dataframe\">\n",
       "  <thead>\n",
       "    <tr style=\"text-align: right;\">\n",
       "      <th></th>\n",
       "      <th>img_name</th>\n",
       "      <th>parent_id</th>\n",
       "      <th>parent_name</th>\n",
       "    </tr>\n",
       "  </thead>\n",
       "  <tbody>\n",
       "    <tr>\n",
       "      <th>5833</th>\n",
       "      <td>Q15953605_wd0.jpg</td>\n",
       "      <td>Q46261</td>\n",
       "      <td>Romanesque</td>\n",
       "    </tr>\n",
       "    <tr>\n",
       "      <th>5834</th>\n",
       "      <td>Q15806440_wd0.jpg</td>\n",
       "      <td>Q46261</td>\n",
       "      <td>Romanesque</td>\n",
       "    </tr>\n",
       "    <tr>\n",
       "      <th>5835</th>\n",
       "      <td>Q5836639_wd0.jpg</td>\n",
       "      <td>Q46261</td>\n",
       "      <td>Romanesque</td>\n",
       "    </tr>\n",
       "    <tr>\n",
       "      <th>5836</th>\n",
       "      <td>Q20656847_wd0.jpg</td>\n",
       "      <td>Q46261</td>\n",
       "      <td>Romanesque</td>\n",
       "    </tr>\n",
       "    <tr>\n",
       "      <th>5837</th>\n",
       "      <td>Q2315657_wd0.jpg</td>\n",
       "      <td>Q46261</td>\n",
       "      <td>Romanesque</td>\n",
       "    </tr>\n",
       "  </tbody>\n",
       "</table>\n",
       "</div>"
      ],
      "text/plain": [
       "               img_name parent_id parent_name\n",
       "5833  Q15953605_wd0.jpg    Q46261  Romanesque\n",
       "5834  Q15806440_wd0.jpg    Q46261  Romanesque\n",
       "5835   Q5836639_wd0.jpg    Q46261  Romanesque\n",
       "5836  Q20656847_wd0.jpg    Q46261  Romanesque\n",
       "5837   Q2315657_wd0.jpg    Q46261  Romanesque"
      ]
     },
     "metadata": {},
     "output_type": "display_data"
    }
   ],
   "source": [
    "print('train set')\n",
    "df_train = get_img_parent_style(train_txt)\n",
    "display(df_train.head())\n",
    "display(df_train.tail())\n",
    "\n",
    "print('train eval set')\n",
    "df_trainval = get_img_parent_style(trainval_txt)\n",
    "display(df_trainval.head())\n",
    "display(df_train.tail())\n",
    "\n",
    "print('eval set')\n",
    "df_val = get_img_parent_style(val_txt)\n",
    "display(df_val.head())\n",
    "display(df_train.tail())\n",
    "\n",
    "print('test set')\n",
    "df_test = get_img_parent_style(test_txt)\n",
    "display(df_test.head())\n",
    "display(df_train.tail())"
   ]
  },
  {
   "cell_type": "code",
   "execution_count": 7,
   "metadata": {},
   "outputs": [
    {
     "data": {
      "text/html": [
       "<div>\n",
       "<style scoped>\n",
       "    .dataframe tbody tr th:only-of-type {\n",
       "        vertical-align: middle;\n",
       "    }\n",
       "\n",
       "    .dataframe tbody tr th {\n",
       "        vertical-align: top;\n",
       "    }\n",
       "\n",
       "    .dataframe thead th {\n",
       "        text-align: right;\n",
       "    }\n",
       "</style>\n",
       "<table border=\"1\" class=\"dataframe\">\n",
       "  <thead>\n",
       "    <tr style=\"text-align: right;\">\n",
       "      <th></th>\n",
       "      <th>style_name</th>\n",
       "      <th>count</th>\n",
       "    </tr>\n",
       "  </thead>\n",
       "  <tbody>\n",
       "    <tr>\n",
       "      <th>0</th>\n",
       "      <td>Gothic</td>\n",
       "      <td>3041</td>\n",
       "    </tr>\n",
       "    <tr>\n",
       "      <th>1</th>\n",
       "      <td>Romanesque</td>\n",
       "      <td>1653</td>\n",
       "    </tr>\n",
       "    <tr>\n",
       "      <th>2</th>\n",
       "      <td>Baroque</td>\n",
       "      <td>1080</td>\n",
       "    </tr>\n",
       "    <tr>\n",
       "      <th>3</th>\n",
       "      <td>Renaissance</td>\n",
       "      <td>64</td>\n",
       "    </tr>\n",
       "  </tbody>\n",
       "</table>\n",
       "</div>"
      ],
      "text/plain": [
       "    style_name  count\n",
       "0       Gothic   3041\n",
       "1   Romanesque   1653\n",
       "2      Baroque   1080\n",
       "3  Renaissance     64"
      ]
     },
     "metadata": {},
     "output_type": "display_data"
    },
    {
     "data": {
      "image/png": "[encoded data removed]",
      "text/plain": [
       "<Figure size 720x360 with 1 Axes>"
      ]
     },
     "metadata": {
      "needs_background": "light"
     },
     "output_type": "display_data"
    },
    {
     "data": {
      "text/html": [
       "<div>\n",
       "<style scoped>\n",
       "    .dataframe tbody tr th:only-of-type {\n",
       "        vertical-align: middle;\n",
       "    }\n",
       "\n",
       "    .dataframe tbody tr th {\n",
       "        vertical-align: top;\n",
       "    }\n",
       "\n",
       "    .dataframe thead th {\n",
       "        text-align: right;\n",
       "    }\n",
       "</style>\n",
       "<table border=\"1\" class=\"dataframe\">\n",
       "  <thead>\n",
       "    <tr style=\"text-align: right;\">\n",
       "      <th></th>\n",
       "      <th>style_name</th>\n",
       "      <th>count</th>\n",
       "    </tr>\n",
       "  </thead>\n",
       "  <tbody>\n",
       "    <tr>\n",
       "      <th>0</th>\n",
       "      <td>Gothic</td>\n",
       "      <td>3093</td>\n",
       "    </tr>\n",
       "    <tr>\n",
       "      <th>1</th>\n",
       "      <td>Romanesque</td>\n",
       "      <td>1703</td>\n",
       "    </tr>\n",
       "    <tr>\n",
       "      <th>2</th>\n",
       "      <td>Baroque</td>\n",
       "      <td>1132</td>\n",
       "    </tr>\n",
       "    <tr>\n",
       "      <th>3</th>\n",
       "      <td>Renaissance</td>\n",
       "      <td>116</td>\n",
       "    </tr>\n",
       "  </tbody>\n",
       "</table>\n",
       "</div>"
      ],
      "text/plain": [
       "    style_name  count\n",
       "0       Gothic   3093\n",
       "1   Romanesque   1703\n",
       "2      Baroque   1132\n",
       "3  Renaissance    116"
      ]
     },
     "metadata": {},
     "output_type": "display_data"
    },
    {
     "data": {
      "image/png": "[encoded data removed]",
      "text/plain": [
       "<Figure size 720x360 with 1 Axes>"
      ]
     },
     "metadata": {
      "needs_background": "light"
     },
     "output_type": "display_data"
    },
    {
     "data": {
      "text/html": [
       "<div>\n",
       "<style scoped>\n",
       "    .dataframe tbody tr th:only-of-type {\n",
       "        vertical-align: middle;\n",
       "    }\n",
       "\n",
       "    .dataframe tbody tr th {\n",
       "        vertical-align: top;\n",
       "    }\n",
       "\n",
       "    .dataframe thead th {\n",
       "        text-align: right;\n",
       "    }\n",
       "</style>\n",
       "<table border=\"1\" class=\"dataframe\">\n",
       "  <thead>\n",
       "    <tr style=\"text-align: right;\">\n",
       "      <th></th>\n",
       "      <th>style_name</th>\n",
       "      <th>count</th>\n",
       "    </tr>\n",
       "  </thead>\n",
       "  <tbody>\n",
       "    <tr>\n",
       "      <th>0</th>\n",
       "      <td>Baroque</td>\n",
       "      <td>52</td>\n",
       "    </tr>\n",
       "    <tr>\n",
       "      <th>1</th>\n",
       "      <td>Renaissance</td>\n",
       "      <td>52</td>\n",
       "    </tr>\n",
       "    <tr>\n",
       "      <th>2</th>\n",
       "      <td>Gothic</td>\n",
       "      <td>52</td>\n",
       "    </tr>\n",
       "    <tr>\n",
       "      <th>3</th>\n",
       "      <td>Romanesque</td>\n",
       "      <td>50</td>\n",
       "    </tr>\n",
       "  </tbody>\n",
       "</table>\n",
       "</div>"
      ],
      "text/plain": [
       "    style_name  count\n",
       "0      Baroque     52\n",
       "1  Renaissance     52\n",
       "2       Gothic     52\n",
       "3   Romanesque     50"
      ]
     },
     "metadata": {},
     "output_type": "display_data"
    },
    {
     "data": {
      "image/png": "[encoded data removed]",
      "text/plain": [
       "<Figure size 720x360 with 1 Axes>"
      ]
     },
     "metadata": {
      "needs_background": "light"
     },
     "output_type": "display_data"
    },
    {
     "data": {
      "text/html": [
       "<div>\n",
       "<style scoped>\n",
       "    .dataframe tbody tr th:only-of-type {\n",
       "        vertical-align: middle;\n",
       "    }\n",
       "\n",
       "    .dataframe tbody tr th {\n",
       "        vertical-align: top;\n",
       "    }\n",
       "\n",
       "    .dataframe thead th {\n",
       "        text-align: right;\n",
       "    }\n",
       "</style>\n",
       "<table border=\"1\" class=\"dataframe\">\n",
       "  <thead>\n",
       "    <tr style=\"text-align: right;\">\n",
       "      <th></th>\n",
       "      <th>style_name</th>\n",
       "      <th>count</th>\n",
       "    </tr>\n",
       "  </thead>\n",
       "  <tbody>\n",
       "    <tr>\n",
       "      <th>0</th>\n",
       "      <td>Gothic</td>\n",
       "      <td>506</td>\n",
       "    </tr>\n",
       "    <tr>\n",
       "      <th>1</th>\n",
       "      <td>Romanesque</td>\n",
       "      <td>504</td>\n",
       "    </tr>\n",
       "    <tr>\n",
       "      <th>2</th>\n",
       "      <td>Baroque</td>\n",
       "      <td>372</td>\n",
       "    </tr>\n",
       "    <tr>\n",
       "      <th>3</th>\n",
       "      <td>Renaissance</td>\n",
       "      <td>100</td>\n",
       "    </tr>\n",
       "  </tbody>\n",
       "</table>\n",
       "</div>"
      ],
      "text/plain": [
       "    style_name  count\n",
       "0       Gothic    506\n",
       "1   Romanesque    504\n",
       "2      Baroque    372\n",
       "3  Renaissance    100"
      ]
     },
     "metadata": {},
     "output_type": "display_data"
    },
    {
     "data": {
      "image/png": "[encoded data removed]",
      "text/plain": [
       "<Figure size 720x360 with 1 Axes>"
      ]
     },
     "metadata": {
      "needs_background": "light"
     },
     "output_type": "display_data"
    }
   ],
   "source": [
    "# On souhaite visualiser la distribution des styles architecturaux dans les différents sets\n",
    "import matplotlib.pyplot as plt\n",
    "\n",
    "# On souhaite aussi visualiser le nombre exact d'images par style architectural\n",
    "def plot_style_distribution(df, set_name):\n",
    "    # On crée un dictionnaire contenant le nombre d'images par style architectural\n",
    "    style_count = df['parent_name'].value_counts().to_dict()\n",
    "\n",
    "    # On crée un dataframe à partir du dictionnaire\n",
    "    df_count = pd.DataFrame.from_dict(style_count, orient='index',columns=['count']).reset_index()\n",
    "    # On renomme la colonne index en style_name\n",
    "    df_count = df_count.rename(columns={'index':'style_name'})\n",
    "\n",
    "    # On trie le dataframe par ordre décroissant\n",
    "    df_count = df_count.sort_values(by='count', ascending=False)\n",
    "\n",
    "    # On affiche le nombre d'images par style architectural\n",
    "    display(df_count)\n",
    "\n",
    "    # On affiche le nombre d'images par style architectural sous forme de diagramme en bâtons\n",
    "    plt.figure(figsize=(10,5))\n",
    "    plt.bar(df_count['style_name'], df_count['count'])\n",
    "    plt.title(f'Number of images per architectural style in {set_name} set')\n",
    "    plt.xticks(rotation=90)\n",
    "    plt.show()\n",
    "\n",
    "plot_style_distribution(df_train, 'train')\n",
    "plot_style_distribution(df_trainval, 'train eval')\n",
    "plot_style_distribution(df_val, 'eval')\n",
    "plot_style_distribution(df_test, 'test')"
   ]
  },
  {
   "cell_type": "code",
   "execution_count": 8,
   "metadata": {},
   "outputs": [
    {
     "data": {
      "text/html": [
       "<div>\n",
       "<style scoped>\n",
       "    .dataframe tbody tr th:only-of-type {\n",
       "        vertical-align: middle;\n",
       "    }\n",
       "\n",
       "    .dataframe tbody tr th {\n",
       "        vertical-align: top;\n",
       "    }\n",
       "\n",
       "    .dataframe thead th {\n",
       "        text-align: right;\n",
       "    }\n",
       "</style>\n",
       "<table border=\"1\" class=\"dataframe\">\n",
       "  <thead>\n",
       "    <tr style=\"text-align: right;\">\n",
       "      <th></th>\n",
       "      <th>img_name</th>\n",
       "      <th>parent_id</th>\n",
       "      <th>parent_name</th>\n",
       "    </tr>\n",
       "  </thead>\n",
       "  <tbody>\n",
       "    <tr>\n",
       "      <th>0</th>\n",
       "      <td>Q21716735_wd0.jpg</td>\n",
       "      <td>Q840829</td>\n",
       "      <td>Baroque</td>\n",
       "    </tr>\n",
       "    <tr>\n",
       "      <th>1</th>\n",
       "      <td>Q20730233_wd0.jpg</td>\n",
       "      <td>Q840829</td>\n",
       "      <td>Baroque</td>\n",
       "    </tr>\n",
       "    <tr>\n",
       "      <th>2</th>\n",
       "      <td>Q2317509_wd0.jpg</td>\n",
       "      <td>Q840829</td>\n",
       "      <td>Baroque</td>\n",
       "    </tr>\n",
       "    <tr>\n",
       "      <th>3</th>\n",
       "      <td>Q1897745_wd0.jpg</td>\n",
       "      <td>Q840829</td>\n",
       "      <td>Baroque</td>\n",
       "    </tr>\n",
       "    <tr>\n",
       "      <th>4</th>\n",
       "      <td>Q20754132_wd0.jpg</td>\n",
       "      <td>Q840829</td>\n",
       "      <td>Baroque</td>\n",
       "    </tr>\n",
       "  </tbody>\n",
       "</table>\n",
       "</div>"
      ],
      "text/plain": [
       "            img_name parent_id parent_name\n",
       "0  Q21716735_wd0.jpg   Q840829     Baroque\n",
       "1  Q20730233_wd0.jpg   Q840829     Baroque\n",
       "2   Q2317509_wd0.jpg   Q840829     Baroque\n",
       "3   Q1897745_wd0.jpg   Q840829     Baroque\n",
       "4  Q20754132_wd0.jpg   Q840829     Baroque"
      ]
     },
     "metadata": {},
     "output_type": "display_data"
    }
   ],
   "source": [
    "# On regroupe tous les sets dans un seul dataframe\n",
    "df_concat_sets = pd.concat([df_train, df_trainval, df_val, df_test])\n",
    "display(df_concat_sets.head())"
   ]
  },
  {
   "cell_type": "code",
   "execution_count": 9,
   "metadata": {},
   "outputs": [
    {
     "data": {
      "text/html": [
       "<div>\n",
       "<style scoped>\n",
       "    .dataframe tbody tr th:only-of-type {\n",
       "        vertical-align: middle;\n",
       "    }\n",
       "\n",
       "    .dataframe tbody tr th {\n",
       "        vertical-align: top;\n",
       "    }\n",
       "\n",
       "    .dataframe thead th {\n",
       "        text-align: right;\n",
       "    }\n",
       "</style>\n",
       "<table border=\"1\" class=\"dataframe\">\n",
       "  <thead>\n",
       "    <tr style=\"text-align: right;\">\n",
       "      <th></th>\n",
       "      <th>style_name</th>\n",
       "      <th>count</th>\n",
       "    </tr>\n",
       "  </thead>\n",
       "  <tbody>\n",
       "    <tr>\n",
       "      <th>0</th>\n",
       "      <td>Gothic</td>\n",
       "      <td>6692</td>\n",
       "    </tr>\n",
       "    <tr>\n",
       "      <th>1</th>\n",
       "      <td>Romanesque</td>\n",
       "      <td>3910</td>\n",
       "    </tr>\n",
       "    <tr>\n",
       "      <th>2</th>\n",
       "      <td>Baroque</td>\n",
       "      <td>2636</td>\n",
       "    </tr>\n",
       "    <tr>\n",
       "      <th>3</th>\n",
       "      <td>Renaissance</td>\n",
       "      <td>332</td>\n",
       "    </tr>\n",
       "  </tbody>\n",
       "</table>\n",
       "</div>"
      ],
      "text/plain": [
       "    style_name  count\n",
       "0       Gothic   6692\n",
       "1   Romanesque   3910\n",
       "2      Baroque   2636\n",
       "3  Renaissance    332"
      ]
     },
     "metadata": {},
     "output_type": "display_data"
    },
    {
     "data": {
      "image/png": "[encoded data removed]",
      "text/plain": [
       "<Figure size 1000x500 with 1 Axes>"
      ]
     },
     "metadata": {},
     "output_type": "display_data"
    }
   ],
   "source": [
    "# On souhaite visualiser la distribution des styles architecturaux dans tous les sets\n",
    "plot_style_distribution(df_concat_sets, 'train + train eval + eval + test')\n"
   ]
  },
  {
   "cell_type": "code",
   "execution_count": 8,
   "metadata": {},
   "outputs": [],
   "source": [
    "# chemin vers le dataset :\n",
    "dataset_path = '../../DATASET/'"
   ]
  },
  {
   "cell_type": "markdown",
   "metadata": {},
   "source": [
    "## Compression des images"
   ]
  },
  {
   "cell_type": "code",
   "execution_count": 9,
   "metadata": {},
   "outputs": [
    {
     "name": "stdout",
     "output_type": "stream",
     "text": [
      "^C\n"
     ]
    },
    {
     "name": "stdout",
     "output_type": "stream",
     "text": [
      "Requirement already satisfied: tqdm in c:\\users\\cytech student\\appdata\\roaming\\python\\python38\\site-packages (4.66.1)\n",
      "Requirement already satisfied: colorama in c:\\users\\cytech student\\appdata\\roaming\\python\\python38\\site-packages (from tqdm) (0.4.6)\n"
     ]
    },
    {
     "name": "stderr",
     "output_type": "stream",
     "text": [
      "DEPRECATION: pyodbc 4.0.0-unsupported has a non-standard version number. pip 24.0 will enforce this behaviour change. A possible replacement is to upgrade to a newer version of pyodbc or contact the author to suggest that they release a version with a conforming version number. Discussion can be found at https://github.com/pypa/pip/issues/12063\n",
      "\n",
      "[notice] A new release of pip is available: 23.3.1 -> 23.3.2\n",
      "[notice] To update, run: python.exe -m pip install --upgrade pip\n"
     ]
    }
   ],
   "source": [
    "! pip install tqdm"
   ]
  },
  {
   "cell_type": "code",
   "execution_count": 10,
   "metadata": {},
   "outputs": [],
   "source": [
    "# Nos images sont stockées dans un dossier images/images\n",
    "# Ces images pèsent bien trop lourd pour être transformées en tenseurs et être traitées par le modèle\n",
    "# On va donc les réduire à une taille de 256x256 pixels\n",
    "# On va aussi les normaliser en divisant les valeurs des pixels par 255\n",
    "\n",
    "# On sauvegarde les images dans un dossier images/images_256\n",
    "\n",
    "# On crée une fonction qui prend en argument un dataframe et qui sauvegarde les images dans un dossier images/images_256\n",
    "\n",
    "# On souhaite aussi que la fonction aie une barre de progression\n",
    "from tqdm import tqdm\n",
    "\n",
    "import os\n",
    "from PIL import Image\n",
    "\n",
    "def save_images(df):\n",
    "    # On crée un dossier images/images_256 s'il n'existe pas déjà\n",
    "    if not os.path.exists(dataset_path + 'images_256'):\n",
    "        os.makedirs(dataset_path + 'images_256')\n",
    "    \n",
    "    # On affiche la barre de progression sous forme de pourcentage sur le notebook\n",
    "    pbar = tqdm(total=len(df), position=0, leave=True)\n",
    "\n",
    "\n",
    "\n",
    "\n",
    "    # On parcourt le dataframe\n",
    "    for index, row in df.iterrows():\n",
    "        # On ouvre l'image\n",
    "        img = Image.open(dataset_path + 'images/' + row['img_name'])\n",
    "        # On redimensionne l'image\n",
    "        img = img.resize((256,256))\n",
    "        # On normalise les valeurs des pixels\n",
    "        img = img.point(lambda x: x/255)\n",
    "        # On sauvegarde l'image\n",
    "        img.save(dataset_path + 'images_256/' + row['img_name'])\n",
    "        # On met à jour la barre de progression\n",
    "        pbar.update(1)\n",
    "\n",
    "    # On ferme la barre de progression\n",
    "    pbar.close()\n",
    "    \n",
    "\n"
   ]
  },
  {
   "cell_type": "code",
   "execution_count": 13,
   "metadata": {},
   "outputs": [],
   "source": [
    "# On sauvegarde les images du train set\n",
    "#save_images(df_train)\n"
   ]
  },
  {
   "cell_type": "code",
   "execution_count": 14,
   "metadata": {},
   "outputs": [],
   "source": [
    "# On sauvegarde les images du train eval set\n",
    "#save_images(df_trainval)"
   ]
  },
  {
   "cell_type": "code",
   "execution_count": 15,
   "metadata": {},
   "outputs": [],
   "source": [
    "# On sauvegarde les images du eval set\n",
    "#save_images(df_val)"
   ]
  },
  {
   "cell_type": "code",
   "execution_count": 16,
   "metadata": {},
   "outputs": [],
   "source": [
    "# On sauvegarde les images du test set\n",
    "#save_images(df_test)"
   ]
  },
  {
   "cell_type": "markdown",
   "metadata": {},
   "source": [
    "## Partie II - Implémentation de Pytorch"
   ]
  },
  {
   "cell_type": "code",
   "execution_count": 9,
   "metadata": {},
   "outputs": [
    {
     "name": "stdout",
     "output_type": "stream",
     "text": [
      "Requirement already satisfied: torch in c:\\users\\cytech student\\appdata\\roaming\\python\\python38\\site-packages (2.1.0)\n",
      "Requirement already satisfied: filelock in c:\\users\\cytech student\\appdata\\roaming\\python\\python38\\site-packages (from torch) (3.12.4)\n",
      "Requirement already satisfied: typing-extensions in c:\\users\\cytech student\\appdata\\roaming\\python\\python38\\site-packages (from torch) (4.8.0)\n",
      "Requirement already satisfied: sympy in c:\\users\\cytech student\\appdata\\roaming\\python\\python38\\site-packages (from torch) (1.12)\n",
      "Requirement already satisfied: networkx in c:\\users\\cytech student\\appdata\\roaming\\python\\python38\\site-packages (from torch) (3.1)\n",
      "Requirement already satisfied: jinja2 in c:\\users\\cytech student\\appdata\\roaming\\python\\python38\\site-packages (from torch) (3.1.2)\n",
      "Requirement already satisfied: fsspec in c:\\users\\cytech student\\appdata\\roaming\\python\\python38\\site-packages (from torch) (2023.6.0)\n",
      "Requirement already satisfied: MarkupSafe>=2.0 in c:\\users\\cytech student\\appdata\\roaming\\python\\python38\\site-packages (from jinja2->torch) (2.1.3)\n",
      "Requirement already satisfied: mpmath>=0.19 in c:\\users\\cytech student\\appdata\\roaming\\python\\python38\\site-packages (from sympy->torch) (1.3.0)\n"
     ]
    },
    {
     "name": "stderr",
     "output_type": "stream",
     "text": [
      "DEPRECATION: pyodbc 4.0.0-unsupported has a non-standard version number. pip 24.0 will enforce this behaviour change. A possible replacement is to upgrade to a newer version of pyodbc or contact the author to suggest that they release a version with a conforming version number. Discussion can be found at https://github.com/pypa/pip/issues/12063\n",
      "\n",
      "[notice] A new release of pip is available: 23.3.1 -> 23.3.2\n",
      "[notice] To update, run: python.exe -m pip install --upgrade pip\n"
     ]
    }
   ],
   "source": [
    "! pip install torch"
   ]
  },
  {
   "cell_type": "code",
   "execution_count": 10,
   "metadata": {},
   "outputs": [
    {
     "name": "stdout",
     "output_type": "stream",
     "text": [
      "Requirement already satisfied: torchvision in c:\\users\\cytech student\\appdata\\roaming\\python\\python38\\site-packages (0.16.0)\n",
      "Requirement already satisfied: numpy in c:\\users\\cytech student\\appdata\\roaming\\python\\python38\\site-packages (from torchvision) (1.22.3)\n",
      "Requirement already satisfied: requests in c:\\users\\cytech student\\appdata\\roaming\\python\\python38\\site-packages (from torchvision) (2.31.0)\n",
      "Requirement already satisfied: torch==2.1.0 in c:\\users\\cytech student\\appdata\\roaming\\python\\python38\\site-packages (from torchvision) (2.1.0)\n",
      "Requirement already satisfied: pillow!=8.3.*,>=5.3.0 in c:\\users\\cytech student\\appdata\\roaming\\python\\python38\\site-packages (from torchvision) (9.0.1)\n",
      "Requirement already satisfied: filelock in c:\\users\\cytech student\\appdata\\roaming\\python\\python38\\site-packages (from torch==2.1.0->torchvision) (3.12.4)\n",
      "Requirement already satisfied: typing-extensions in c:\\users\\cytech student\\appdata\\roaming\\python\\python38\\site-packages (from torch==2.1.0->torchvision) (4.8.0)\n",
      "Requirement already satisfied: sympy in c:\\users\\cytech student\\appdata\\roaming\\python\\python38\\site-packages (from torch==2.1.0->torchvision) (1.12)\n",
      "Requirement already satisfied: networkx in c:\\users\\cytech student\\appdata\\roaming\\python\\python38\\site-packages (from torch==2.1.0->torchvision) (3.1)\n",
      "Requirement already satisfied: jinja2 in c:\\users\\cytech student\\appdata\\roaming\\python\\python38\\site-packages (from torch==2.1.0->torchvision) (3.1.2)\n",
      "Requirement already satisfied: fsspec in c:\\users\\cytech student\\appdata\\roaming\\python\\python38\\site-packages (from torch==2.1.0->torchvision) (2023.6.0)\n",
      "Requirement already satisfied: charset-normalizer<4,>=2 in c:\\users\\cytech student\\appdata\\roaming\\python\\python38\\site-packages (from requests->torchvision) (3.3.0)\n",
      "Requirement already satisfied: idna<4,>=2.5 in c:\\users\\cytech student\\appdata\\roaming\\python\\python38\\site-packages (from requests->torchvision) (3.4)\n",
      "Requirement already satisfied: urllib3<3,>=1.21.1 in c:\\users\\cytech student\\appdata\\roaming\\python\\python38\\site-packages (from requests->torchvision) (2.0.6)\n",
      "Requirement already satisfied: certifi>=2017.4.17 in c:\\users\\cytech student\\appdata\\roaming\\python\\python38\\site-packages (from requests->torchvision) (2023.7.22)\n",
      "Requirement already satisfied: MarkupSafe>=2.0 in c:\\users\\cytech student\\appdata\\roaming\\python\\python38\\site-packages (from jinja2->torch==2.1.0->torchvision) (2.1.3)\n",
      "Requirement already satisfied: mpmath>=0.19 in c:\\users\\cytech student\\appdata\\roaming\\python\\python38\\site-packages (from sympy->torch==2.1.0->torchvision) (1.3.0)\n"
     ]
    },
    {
     "name": "stderr",
     "output_type": "stream",
     "text": [
      "DEPRECATION: pyodbc 4.0.0-unsupported has a non-standard version number. pip 24.0 will enforce this behaviour change. A possible replacement is to upgrade to a newer version of pyodbc or contact the author to suggest that they release a version with a conforming version number. Discussion can be found at https://github.com/pypa/pip/issues/12063\n",
      "\n",
      "[notice] A new release of pip is available: 23.3.1 -> 23.3.2\n",
      "[notice] To update, run: python.exe -m pip install --upgrade pip\n"
     ]
    }
   ],
   "source": [
    "! pip install torchvision"
   ]
  },
  {
   "cell_type": "code",
   "execution_count": 11,
   "metadata": {},
   "outputs": [],
   "source": [
    "# On transforme les images en tenseurs avec pytorch\n",
    "import torch\n",
    "from torchvision import transforms\n",
    "from PIL import Image\n",
    "\n",
    "# On crée une fonction qui prend en argument le chemin vers une image et qui retourne un tenseur\n",
    "def img_to_tensor(img_path):\n",
    "    # On ouvre l'image\n",
    "    img = Image.open(img_path)\n",
    "    # On transforme l'image en tenseur\n",
    "    img_tensor = transforms.ToTensor()(img)\n",
    "    # On retourne le tenseur\n",
    "    return img_tensor\n",
    "\n",
    "# On crée une fonction qui prend en argument un dataframe et qui retourne un dictionnaire contenant le nom du fichier image et le tenseur correspondant\n",
    "def get_img_tensor_dict(df):\n",
    "    # On crée un dictionnaire vide\n",
    "    img_tensor_dict = {}\n",
    "    # On parcourt le dataframe\n",
    "    for index, row in df.iterrows():\n",
    "        # On crée le chemin vers l'image\n",
    "        img_path = dataset_path +'images_256/'+ row['img_name']\n",
    "        # On transforme l'image en tenseur\n",
    "        img_tensor = img_to_tensor(img_path)\n",
    "        # On ajoute le nom du fichier image et le tenseur correspondant au dictionnaire\n",
    "        img_tensor_dict[row['img_name']] = img_tensor\n",
    "    # On retourne le dictionnaire\n",
    "    return img_tensor_dict\n",
    "\n",
    "\n",
    "\n"
   ]
  },
  {
   "cell_type": "markdown",
   "metadata": {},
   "source": [
    "On crée un dictionnaire contenant le nom du fichier image et le tenseur correspondant pour chaque set"
   ]
  },
  {
   "cell_type": "code",
   "execution_count": 12,
   "metadata": {},
   "outputs": [],
   "source": [
    "img_tensor_dict_train = get_img_tensor_dict(df_train)"
   ]
  },
  {
   "cell_type": "code",
   "execution_count": 13,
   "metadata": {},
   "outputs": [],
   "source": [
    "img_tensor_dict_trainval = get_img_tensor_dict(df_trainval)"
   ]
  },
  {
   "cell_type": "code",
   "execution_count": 14,
   "metadata": {},
   "outputs": [],
   "source": [
    "img_tensor_dict_val = get_img_tensor_dict(df_val)"
   ]
  },
  {
   "cell_type": "code",
   "execution_count": 15,
   "metadata": {},
   "outputs": [],
   "source": [
    "img_tensor_dict_test = get_img_tensor_dict(df_test)"
   ]
  },
  {
   "cell_type": "code",
   "execution_count": 24,
   "metadata": {},
   "outputs": [
    {
     "name": "stdout",
     "output_type": "stream",
     "text": [
      "train set\n",
      "img_name : Q1415669_wd1.jpg\n",
      "img_tensor :\n"
     ]
    },
    {
     "data": {
      "text/plain": [
       "tensor([[[0.0902, 0.0941, 0.1020,  ..., 0.2392, 0.2980, 0.3176],\n",
       "         [0.0706, 0.0824, 0.1255,  ..., 0.0980, 0.1804, 0.3059],\n",
       "         [0.1294, 0.0824, 0.0627,  ..., 0.1020, 0.1725, 0.3216],\n",
       "         ...,\n",
       "         [0.3294, 0.3686, 0.4745,  ..., 0.5255, 0.4706, 0.3333],\n",
       "         [0.3961, 0.5059, 0.6000,  ..., 0.3569, 0.2588, 0.1647],\n",
       "         [0.5490, 0.5608, 0.6314,  ..., 0.1804, 0.0824, 0.1255]],\n",
       "\n",
       "        [[0.1176, 0.1216, 0.1412,  ..., 0.2353, 0.2784, 0.2980],\n",
       "         [0.0980, 0.1098, 0.1647,  ..., 0.0941, 0.1686, 0.2863],\n",
       "         [0.1569, 0.1098, 0.1020,  ..., 0.0980, 0.1608, 0.3098],\n",
       "         ...,\n",
       "         [0.3216, 0.3686, 0.4627,  ..., 0.4627, 0.3961, 0.2706],\n",
       "         [0.3804, 0.4941, 0.5804,  ..., 0.3020, 0.1961, 0.1059],\n",
       "         [0.5333, 0.5412, 0.6118,  ..., 0.1255, 0.0235, 0.0667]],\n",
       "\n",
       "        [[0.1412, 0.1451, 0.1490,  ..., 0.2588, 0.3059, 0.3255],\n",
       "         [0.1216, 0.1333, 0.1725,  ..., 0.1176, 0.1961, 0.3137],\n",
       "         [0.1804, 0.1333, 0.1098,  ..., 0.1294, 0.1961, 0.3451],\n",
       "         ...,\n",
       "         [0.2745, 0.3216, 0.4353,  ..., 0.4667, 0.4118, 0.2824],\n",
       "         [0.3451, 0.4588, 0.5647,  ..., 0.3020, 0.2078, 0.1176],\n",
       "         [0.4980, 0.5176, 0.5961,  ..., 0.1255, 0.0353, 0.0784]]])"
      ]
     },
     "metadata": {},
     "output_type": "display_data"
    }
   ],
   "source": [
    "# On visualise un exemple de tenseur\n",
    "print('train set')\n",
    "print('img_name :', df_val['img_name'][0])\n",
    "print('img_tensor :')\n",
    "display(img_tensor_dict_val[df_val['img_name'][0]])"
   ]
  },
  {
   "cell_type": "code",
   "execution_count": 16,
   "metadata": {},
   "outputs": [],
   "source": [
    "# On créé un dataset custom contenant les tenseurs des images et les labels\n",
    "from torch.utils.data import Dataset\n",
    "\n",
    "class CustomDataset(Dataset):\n",
    "    def __init__(self, img_tensor_dict, df, label_map):\n",
    "        self.img_tensor_dict = img_tensor_dict\n",
    "        self.df = df\n",
    "        self.label_map = label_map\n",
    "\n",
    "    def __len__(self):\n",
    "        return len(self.df)\n",
    "\n",
    "    def __getitem__(self, index):\n",
    "        # On récupère le nom du fichier image\n",
    "        img_name = self.df['img_name'][index]\n",
    "        # On récupère le tenseur correspondant\n",
    "        img_tensor = self.img_tensor_dict[img_name]\n",
    "        # On récupère le label\n",
    "        label_str = self.df['parent_id'][index]\n",
    "        label = self.label_map[label_str]\n",
    "        # On retourne le tenseur et le label\n",
    "        return img_tensor, label\n",
    "    \n",
    "    "
   ]
  },
  {
   "cell_type": "code",
   "execution_count": 17,
   "metadata": {},
   "outputs": [],
   "source": [
    "# On créé une fonction qui mappe les labels aux noms des styles architecturaux\n",
    "def create_label_map(df):\n",
    "    unique_labels = df.iloc[:, 1].unique()\n",
    "    label_map = {label: idx for idx, label in enumerate(unique_labels)}\n",
    "    return label_map\n",
    "    "
   ]
  },
  {
   "cell_type": "code",
   "execution_count": 18,
   "metadata": {},
   "outputs": [
    {
     "data": {
      "text/plain": [
       "{'Q840829': 0, 'Q236122': 1, 'Q176483': 2, 'Q46261': 3}"
      ]
     },
     "metadata": {},
     "output_type": "display_data"
    }
   ],
   "source": [
    "# On affiiche le résultat du mapping\n",
    "label_map = create_label_map(df_train)\n",
    "display(label_map)"
   ]
  },
  {
   "cell_type": "code",
   "execution_count": 44,
   "metadata": {},
   "outputs": [],
   "source": [
    "# On crée un dataset custom pour le train set\n",
    "dataset_train = CustomDataset(img_tensor_dict_train, df_train,label_map=label_map)\n",
    "\n",
    "# On créé le DataLoader pour le train set\n",
    "from torch.utils.data import DataLoader\n",
    "\n",
    "batch_size = 4\n",
    "\n",
    "dataloader_train = DataLoader(dataset_train, batch_size=batch_size, shuffle=True)"
   ]
  },
  {
   "cell_type": "code",
   "execution_count": 20,
   "metadata": {},
   "outputs": [
    {
     "name": "stdout",
     "output_type": "stream",
     "text": [
      "img_tensor :\n"
     ]
    },
    {
     "data": {
      "text/plain": [
       "tensor([[[0.2196, 0.2235, 0.2314,  ..., 0.2941, 0.2941, 0.2941],\n",
       "         [0.2275, 0.2314, 0.2353,  ..., 0.2941, 0.2941, 0.2941],\n",
       "         [0.2314, 0.2314, 0.2314,  ..., 0.2941, 0.2941, 0.2941],\n",
       "         ...,\n",
       "         [0.4588, 0.4510, 0.4549,  ..., 0.7294, 0.6471, 0.6627],\n",
       "         [0.4353, 0.4275, 0.4314,  ..., 0.8078, 0.7059, 0.7686],\n",
       "         [0.5020, 0.5216, 0.5098,  ..., 0.7451, 0.6549, 0.7059]],\n",
       "\n",
       "        [[0.4235, 0.4275, 0.4353,  ..., 0.5529, 0.5529, 0.5529],\n",
       "         [0.4314, 0.4353, 0.4392,  ..., 0.5529, 0.5529, 0.5529],\n",
       "         [0.4471, 0.4471, 0.4471,  ..., 0.5529, 0.5529, 0.5529],\n",
       "         ...,\n",
       "         [0.4706, 0.4627, 0.4667,  ..., 0.7098, 0.6275, 0.6431],\n",
       "         [0.4471, 0.4392, 0.4431,  ..., 0.7882, 0.6863, 0.7490],\n",
       "         [0.5137, 0.5333, 0.5216,  ..., 0.7255, 0.6353, 0.6863]],\n",
       "\n",
       "        [[0.7490, 0.7529, 0.7608,  ..., 0.8588, 0.8588, 0.8588],\n",
       "         [0.7569, 0.7608, 0.7647,  ..., 0.8588, 0.8588, 0.8588],\n",
       "         [0.7686, 0.7686, 0.7686,  ..., 0.8588, 0.8588, 0.8588],\n",
       "         ...,\n",
       "         [0.3490, 0.3412, 0.3451,  ..., 0.6941, 0.6118, 0.6275],\n",
       "         [0.3255, 0.3176, 0.3216,  ..., 0.7647, 0.6706, 0.7333],\n",
       "         [0.3922, 0.4118, 0.4000,  ..., 0.7020, 0.6196, 0.6706]]])"
      ]
     },
     "metadata": {},
     "output_type": "display_data"
    },
    {
     "name": "stdout",
     "output_type": "stream",
     "text": [
      "label : tensor(3)\n",
      "label_str : Q46261\n",
      "label_name : Romanesque\n"
     ]
    },
    {
     "data": {
      "image/png": "[encoded data removed]",
      "text/plain": [
       "<Figure size 432x288 with 1 Axes>"
      ]
     },
     "metadata": {
      "needs_background": "light"
     },
     "output_type": "display_data"
    }
   ],
   "source": [
    "# On visualise la première image du train set et son label à partir du DataLoader\n",
    "# On visualise le tenseur de l'image, et on reconstitue l'image à partir du tenseur\n",
    "import matplotlib.pyplot as plt\n",
    "\n",
    "for img_tensor, label in dataloader_train:\n",
    "    print('img_tensor :')\n",
    "    display(img_tensor[0])\n",
    "    # On récupère le label\n",
    "    print('label :', label[0])\n",
    "    # On utilise le label_map pour récupérer le nom du style architectural\n",
    "    label_str = [k for k,v in label_map.items() if v == label[0]][0]\n",
    "    print('label_str :', label_str)\n",
    "    # On print le nom du style architectural correspondant au label\n",
    "    print('label_name :', df_train[df_train['parent_id'] == label_str]['parent_name'].values[0])\n",
    "    # On reconstitue l'image à partir du tenseur\n",
    "    plt.imshow(img_tensor[0].permute(1,2,0))\n",
    "    break\n",
    "\n",
    "\n",
    "\n"
   ]
  },
  {
   "cell_type": "markdown",
   "metadata": {},
   "source": [
    "## Partie III - Modèle personnalisé\n",
    "Maintenant qu'un DataLoader a été créé avec les images et les labels correspondant, nous allons pouvoir implémenter notre premier CNN personnalisé."
   ]
  },
  {
   "cell_type": "code",
   "execution_count": 22,
   "metadata": {},
   "outputs": [
    {
     "name": "stdout",
     "output_type": "stream",
     "text": [
      "Requirement already satisfied: scikit-learn in c:\\users\\cytech student\\anaconda3\\lib\\site-packages (0.23.2)"
     ]
    },
    {
     "name": "stderr",
     "output_type": "stream",
     "text": [
      "DEPRECATION: pyodbc 4.0.0-unsupported has a non-standard version number. pip 24.0 will enforce this behaviour change. A possible replacement is to upgrade to a newer version of pyodbc or contact the author to suggest that they release a version with a conforming version number. Discussion can be found at https://github.com/pypa/pip/issues/12063\n",
      "\n",
      "[notice] A new release of pip is available: 23.3.1 -> 23.3.2\n",
      "[notice] To update, run: python.exe -m pip install --upgrade pip\n"
     ]
    },
    {
     "name": "stdout",
     "output_type": "stream",
     "text": [
      "\n",
      "Requirement already satisfied: numpy>=1.13.3 in c:\\users\\cytech student\\appdata\\roaming\\python\\python38\\site-packages (from scikit-learn) (1.22.3)\n",
      "Requirement already satisfied: scipy>=0.19.1 in c:\\users\\cytech student\\appdata\\roaming\\python\\python38\\site-packages (from scikit-learn) (1.8.0)\n",
      "Requirement already satisfied: joblib>=0.11 in c:\\users\\cytech student\\anaconda3\\lib\\site-packages (from scikit-learn) (0.17.0)\n",
      "Requirement already satisfied: threadpoolctl>=2.0.0 in c:\\users\\cytech student\\anaconda3\\lib\\site-packages (from scikit-learn) (2.1.0)\n"
     ]
    }
   ],
   "source": [
    "! pip install scikit-learn"
   ]
  },
  {
   "cell_type": "markdown",
   "metadata": {},
   "source": [
    "### Définition d'un modèle de CNN personnalisé (2 convolutions)"
   ]
  },
  {
   "cell_type": "code",
   "execution_count": 21,
   "metadata": {},
   "outputs": [],
   "source": [
    "import torch.nn as nn\n",
    "import torch.nn.functional as F\n",
    "\n",
    "# On crée un modèle de réseau de neurones convolutif\n",
    "class Net(nn.Module):\n",
    "    def __init__(self, num_classes = 4):\n",
    "        super().__init__()\n",
    "        self.conv1 = nn.Conv2d(3, 16, 3, padding=1,stride=1)\n",
    "        self.pool1 = nn.MaxPool2d(2, 2)\n",
    "        self.conv2 = nn.Conv2d(16, 32, 3, padding=1,stride=1)\n",
    "        self.pool2 = nn.MaxPool2d(2, 2)\n",
    "        self.fc1 = nn.Linear(32*64*64, 128)\n",
    "        self.fc2 = nn.Linear(128, 64)\n",
    "        self.fc3 = nn.Linear(64, num_classes)\n",
    "\n",
    "\n",
    "\n",
    "    def forward(self, x):\n",
    "        # Première couche de convolution suivie de ReLU et de max pooling\n",
    "        x = F.relu(self.conv1(x))\n",
    "        x = self.pool1(x)\n",
    "        # Deuxième couche de convolution suivie de ReLU et de max pooling\n",
    "        x = F.relu(self.conv2(x))\n",
    "        x = self.pool2(x)\n",
    "        # Redimensionner l'activation pour l'entrée de la première couche entièrement connectée\n",
    "        x = x.view(-1, 32 * 64 * 64)\n",
    "        # Trois couches entièrement connectées avec ReLU entre chacune\n",
    "        x = F.relu(self.fc1(x))\n",
    "        x = F.relu(self.fc2(x))\n",
    "        x = self.fc3(x)\n",
    "        return x\n",
    "    \n",
    "    "
   ]
  },
  {
   "cell_type": "code",
   "execution_count": 22,
   "metadata": {},
   "outputs": [],
   "source": [
    "# On teste le modèle\n",
    "net = Net()"
   ]
  },
  {
   "cell_type": "markdown",
   "metadata": {},
   "source": [
    "### Fonction d'entrainement"
   ]
  },
  {
   "cell_type": "code",
   "execution_count": 53,
   "metadata": {},
   "outputs": [],
   "source": [
    "# On créé une fonction d'entrainement du modèle\n",
    "# Cette fonction possède aussi une barre de progression sous forme de pourcentage avec tqdm\n",
    "# Cette barre de progression se rempli à chaque epoch\n",
    "\n",
    "import torch.optim as optim\n",
    "\n",
    "def train_model(model, dataloader, epochs):\n",
    "\n",
    "    # On définit la fonction de coût\n",
    "    criterion = nn.CrossEntropyLoss()\n",
    "\n",
    "    # On définit l'optimiseur\n",
    "    optimizer = optim.SGD(model.parameters(), lr=0.001,momentum=0.9)\n",
    "\n",
    "    \n",
    "\n",
    "    # On parcourt les epochs\n",
    "    for epoch in range(epochs):\n",
    "        loss_stats = []\n",
    "       \n",
    "\n",
    "        # On affiche l'epoch en cours\n",
    "        print(f'epoch {epoch+1}/{epochs}')\n",
    "\n",
    "        # On affiche la barre de progression sous forme de pourcentage sur le notebook\n",
    "        pbar = tqdm(total=len(dataloader), position=0, leave=True)\n",
    "\n",
    "        \n",
    "\n",
    "        # On initialise la running_loss à 0\n",
    "        running_loss = 0.0\n",
    "\n",
    "        # On parcourt les batches du dataloader\n",
    "        for i, data in enumerate(dataloader, 0):\n",
    "\n",
    "            # On affiche la barre de progression sous forme de pourcentage sur le notebook\n",
    "            pbar.update(1)\n",
    "\n",
    "            # On récupère les tenseurs et les labels\n",
    "            inputs, labels = data\n",
    "\n",
    "            # On met les gradients à zéro\n",
    "            optimizer.zero_grad()\n",
    "\n",
    "            # On fait une prédiction\n",
    "            outputs = model(inputs)\n",
    "\n",
    "            # On calcule la fonction de coût\n",
    "            loss = criterion(outputs, labels)\n",
    "\n",
    "            # On calcule les gradients\n",
    "            loss.backward()\n",
    "\n",
    "            # On met à jour les paramètres\n",
    "            optimizer.step()\n",
    "\n",
    "            # Tous les 20 batches, on affiche :\n",
    "            running_loss += loss.item()\n",
    "            if i % 200 == 199:    # print every 20 mini-batches\n",
    "                print(f'[{epoch + 1}, {i + 1:5d}] loss: {running_loss / 200:.3f}')\n",
    "                loss_stats.append((running_loss / 200,i,epoch))\n",
    "                running_loss = 0.0\n",
    "\n",
    "    # On ferme la barre de progression\n",
    "    pbar.close()\n",
    "    \n",
    "    # On retourne le modèle\n",
    "    return model, loss_stats\n",
    "\n",
    "\n",
    "\n"
   ]
  },
  {
   "cell_type": "markdown",
   "metadata": {},
   "source": [
    "### Entrainement"
   ]
  },
  {
   "cell_type": "code",
   "execution_count": 54,
   "metadata": {},
   "outputs": [
    {
     "name": "stdout",
     "output_type": "stream",
     "text": [
      "epoch 1/5\n"
     ]
    },
    {
     "name": "stderr",
     "output_type": "stream",
     "text": [
      "  3%|▎         | 45/1460 [00:07<03:38,  6.47it/s]"
     ]
    },
    {
     "ename": "KeyboardInterrupt",
     "evalue": "",
     "output_type": "error",
     "traceback": [
      "\u001b[1;31m---------------------------------------------------------------------------\u001b[0m",
      "\u001b[1;31mKeyboardInterrupt\u001b[0m                         Traceback (most recent call last)",
      "\u001b[1;32m<ipython-input-54-e66f36521367>\u001b[0m in \u001b[0;36m<module>\u001b[1;34m\u001b[0m\n\u001b[0;32m      1\u001b[0m \u001b[1;31m# On entraine le modèle\u001b[0m\u001b[1;33m\u001b[0m\u001b[1;33m\u001b[0m\u001b[1;33m\u001b[0m\u001b[0m\n\u001b[1;32m----> 2\u001b[1;33m \u001b[0mtrain_model\u001b[0m\u001b[1;33m(\u001b[0m\u001b[0mnet\u001b[0m\u001b[1;33m,\u001b[0m \u001b[0mdataloader_train\u001b[0m\u001b[1;33m,\u001b[0m \u001b[0mepochs\u001b[0m\u001b[1;33m=\u001b[0m\u001b[1;36m5\u001b[0m\u001b[1;33m)\u001b[0m\u001b[1;33m\u001b[0m\u001b[1;33m\u001b[0m\u001b[0m\n\u001b[0m\u001b[0;32m      3\u001b[0m \u001b[1;33m\u001b[0m\u001b[0m\n\u001b[0;32m      4\u001b[0m \u001b[1;33m\u001b[0m\u001b[0m\n",
      "\u001b[1;32m<ipython-input-53-f7445398f153>\u001b[0m in \u001b[0;36mtrain_model\u001b[1;34m(model, dataloader, epochs)\u001b[0m\n\u001b[0;32m     53\u001b[0m \u001b[1;33m\u001b[0m\u001b[0m\n\u001b[0;32m     54\u001b[0m             \u001b[1;31m# On met à jour les paramètres\u001b[0m\u001b[1;33m\u001b[0m\u001b[1;33m\u001b[0m\u001b[1;33m\u001b[0m\u001b[0m\n\u001b[1;32m---> 55\u001b[1;33m             \u001b[0moptimizer\u001b[0m\u001b[1;33m.\u001b[0m\u001b[0mstep\u001b[0m\u001b[1;33m(\u001b[0m\u001b[1;33m)\u001b[0m\u001b[1;33m\u001b[0m\u001b[1;33m\u001b[0m\u001b[0m\n\u001b[0m\u001b[0;32m     56\u001b[0m \u001b[1;33m\u001b[0m\u001b[0m\n\u001b[0;32m     57\u001b[0m             \u001b[1;31m# Tous les 20 batches, on affiche :\u001b[0m\u001b[1;33m\u001b[0m\u001b[1;33m\u001b[0m\u001b[1;33m\u001b[0m\u001b[0m\n",
      "\u001b[1;32m~\\AppData\\Roaming\\Python\\Python38\\site-packages\\torch\\optim\\optimizer.py\u001b[0m in \u001b[0;36mwrapper\u001b[1;34m(*args, **kwargs)\u001b[0m\n\u001b[0;32m    371\u001b[0m                             )\n\u001b[0;32m    372\u001b[0m \u001b[1;33m\u001b[0m\u001b[0m\n\u001b[1;32m--> 373\u001b[1;33m                 \u001b[0mout\u001b[0m \u001b[1;33m=\u001b[0m \u001b[0mfunc\u001b[0m\u001b[1;33m(\u001b[0m\u001b[1;33m*\u001b[0m\u001b[0margs\u001b[0m\u001b[1;33m,\u001b[0m \u001b[1;33m**\u001b[0m\u001b[0mkwargs\u001b[0m\u001b[1;33m)\u001b[0m\u001b[1;33m\u001b[0m\u001b[1;33m\u001b[0m\u001b[0m\n\u001b[0m\u001b[0;32m    374\u001b[0m                 \u001b[0mself\u001b[0m\u001b[1;33m.\u001b[0m\u001b[0m_optimizer_step_code\u001b[0m\u001b[1;33m(\u001b[0m\u001b[1;33m)\u001b[0m\u001b[1;33m\u001b[0m\u001b[1;33m\u001b[0m\u001b[0m\n\u001b[0;32m    375\u001b[0m \u001b[1;33m\u001b[0m\u001b[0m\n",
      "\u001b[1;32m~\\AppData\\Roaming\\Python\\Python38\\site-packages\\torch\\optim\\optimizer.py\u001b[0m in \u001b[0;36m_use_grad\u001b[1;34m(self, *args, **kwargs)\u001b[0m\n\u001b[0;32m     74\u001b[0m             \u001b[0mtorch\u001b[0m\u001b[1;33m.\u001b[0m\u001b[0mset_grad_enabled\u001b[0m\u001b[1;33m(\u001b[0m\u001b[0mself\u001b[0m\u001b[1;33m.\u001b[0m\u001b[0mdefaults\u001b[0m\u001b[1;33m[\u001b[0m\u001b[1;34m'differentiable'\u001b[0m\u001b[1;33m]\u001b[0m\u001b[1;33m)\u001b[0m\u001b[1;33m\u001b[0m\u001b[1;33m\u001b[0m\u001b[0m\n\u001b[0;32m     75\u001b[0m             \u001b[0mtorch\u001b[0m\u001b[1;33m.\u001b[0m\u001b[0m_dynamo\u001b[0m\u001b[1;33m.\u001b[0m\u001b[0mgraph_break\u001b[0m\u001b[1;33m(\u001b[0m\u001b[1;33m)\u001b[0m\u001b[1;33m\u001b[0m\u001b[1;33m\u001b[0m\u001b[0m\n\u001b[1;32m---> 76\u001b[1;33m             \u001b[0mret\u001b[0m \u001b[1;33m=\u001b[0m \u001b[0mfunc\u001b[0m\u001b[1;33m(\u001b[0m\u001b[0mself\u001b[0m\u001b[1;33m,\u001b[0m \u001b[1;33m*\u001b[0m\u001b[0margs\u001b[0m\u001b[1;33m,\u001b[0m \u001b[1;33m**\u001b[0m\u001b[0mkwargs\u001b[0m\u001b[1;33m)\u001b[0m\u001b[1;33m\u001b[0m\u001b[1;33m\u001b[0m\u001b[0m\n\u001b[0m\u001b[0;32m     77\u001b[0m         \u001b[1;32mfinally\u001b[0m\u001b[1;33m:\u001b[0m\u001b[1;33m\u001b[0m\u001b[1;33m\u001b[0m\u001b[0m\n\u001b[0;32m     78\u001b[0m             \u001b[0mtorch\u001b[0m\u001b[1;33m.\u001b[0m\u001b[0m_dynamo\u001b[0m\u001b[1;33m.\u001b[0m\u001b[0mgraph_break\u001b[0m\u001b[1;33m(\u001b[0m\u001b[1;33m)\u001b[0m\u001b[1;33m\u001b[0m\u001b[1;33m\u001b[0m\u001b[0m\n",
      "\u001b[1;32m~\\AppData\\Roaming\\Python\\Python38\\site-packages\\torch\\optim\\sgd.py\u001b[0m in \u001b[0;36mstep\u001b[1;34m(self, closure)\u001b[0m\n\u001b[0;32m     73\u001b[0m             \u001b[0mhas_sparse_grad\u001b[0m \u001b[1;33m=\u001b[0m \u001b[0mself\u001b[0m\u001b[1;33m.\u001b[0m\u001b[0m_init_group\u001b[0m\u001b[1;33m(\u001b[0m\u001b[0mgroup\u001b[0m\u001b[1;33m,\u001b[0m \u001b[0mparams_with_grad\u001b[0m\u001b[1;33m,\u001b[0m \u001b[0md_p_list\u001b[0m\u001b[1;33m,\u001b[0m \u001b[0mmomentum_buffer_list\u001b[0m\u001b[1;33m)\u001b[0m\u001b[1;33m\u001b[0m\u001b[1;33m\u001b[0m\u001b[0m\n\u001b[0;32m     74\u001b[0m \u001b[1;33m\u001b[0m\u001b[0m\n\u001b[1;32m---> 75\u001b[1;33m             sgd(params_with_grad,\n\u001b[0m\u001b[0;32m     76\u001b[0m                 \u001b[0md_p_list\u001b[0m\u001b[1;33m,\u001b[0m\u001b[1;33m\u001b[0m\u001b[1;33m\u001b[0m\u001b[0m\n\u001b[0;32m     77\u001b[0m                 \u001b[0mmomentum_buffer_list\u001b[0m\u001b[1;33m,\u001b[0m\u001b[1;33m\u001b[0m\u001b[1;33m\u001b[0m\u001b[0m\n",
      "\u001b[1;32m~\\AppData\\Roaming\\Python\\Python38\\site-packages\\torch\\optim\\sgd.py\u001b[0m in \u001b[0;36msgd\u001b[1;34m(params, d_p_list, momentum_buffer_list, has_sparse_grad, foreach, weight_decay, momentum, lr, dampening, nesterov, maximize)\u001b[0m\n\u001b[0;32m    218\u001b[0m         \u001b[0mfunc\u001b[0m \u001b[1;33m=\u001b[0m \u001b[0m_single_tensor_sgd\u001b[0m\u001b[1;33m\u001b[0m\u001b[1;33m\u001b[0m\u001b[0m\n\u001b[0;32m    219\u001b[0m \u001b[1;33m\u001b[0m\u001b[0m\n\u001b[1;32m--> 220\u001b[1;33m     func(params,\n\u001b[0m\u001b[0;32m    221\u001b[0m          \u001b[0md_p_list\u001b[0m\u001b[1;33m,\u001b[0m\u001b[1;33m\u001b[0m\u001b[1;33m\u001b[0m\u001b[0m\n\u001b[0;32m    222\u001b[0m          \u001b[0mmomentum_buffer_list\u001b[0m\u001b[1;33m,\u001b[0m\u001b[1;33m\u001b[0m\u001b[1;33m\u001b[0m\u001b[0m\n",
      "\u001b[1;32m~\\AppData\\Roaming\\Python\\Python38\\site-packages\\torch\\optim\\sgd.py\u001b[0m in \u001b[0;36m_single_tensor_sgd\u001b[1;34m(params, d_p_list, momentum_buffer_list, weight_decay, momentum, lr, dampening, nesterov, maximize, has_sparse_grad)\u001b[0m\n\u001b[0;32m    254\u001b[0m                 \u001b[0mmomentum_buffer_list\u001b[0m\u001b[1;33m[\u001b[0m\u001b[0mi\u001b[0m\u001b[1;33m]\u001b[0m \u001b[1;33m=\u001b[0m \u001b[0mbuf\u001b[0m\u001b[1;33m\u001b[0m\u001b[1;33m\u001b[0m\u001b[0m\n\u001b[0;32m    255\u001b[0m             \u001b[1;32melse\u001b[0m\u001b[1;33m:\u001b[0m\u001b[1;33m\u001b[0m\u001b[1;33m\u001b[0m\u001b[0m\n\u001b[1;32m--> 256\u001b[1;33m                 \u001b[0mbuf\u001b[0m\u001b[1;33m.\u001b[0m\u001b[0mmul_\u001b[0m\u001b[1;33m(\u001b[0m\u001b[0mmomentum\u001b[0m\u001b[1;33m)\u001b[0m\u001b[1;33m.\u001b[0m\u001b[0madd_\u001b[0m\u001b[1;33m(\u001b[0m\u001b[0md_p\u001b[0m\u001b[1;33m,\u001b[0m \u001b[0malpha\u001b[0m\u001b[1;33m=\u001b[0m\u001b[1;36m1\u001b[0m \u001b[1;33m-\u001b[0m \u001b[0mdampening\u001b[0m\u001b[1;33m)\u001b[0m\u001b[1;33m\u001b[0m\u001b[1;33m\u001b[0m\u001b[0m\n\u001b[0m\u001b[0;32m    257\u001b[0m \u001b[1;33m\u001b[0m\u001b[0m\n\u001b[0;32m    258\u001b[0m             \u001b[1;32mif\u001b[0m \u001b[0mnesterov\u001b[0m\u001b[1;33m:\u001b[0m\u001b[1;33m\u001b[0m\u001b[1;33m\u001b[0m\u001b[0m\n",
      "\u001b[1;31mKeyboardInterrupt\u001b[0m: "
     ]
    }
   ],
   "source": [
    "# On entraine le modèle\n",
    "train_model(net, dataloader_train, epochs=5)\n",
    "\n",
    "\n"
   ]
  },
  {
   "cell_type": "markdown",
   "metadata": {},
   "source": [
    "### Tests d'accuracy"
   ]
  },
  {
   "cell_type": "code",
   "execution_count": 144,
   "metadata": {},
   "outputs": [
    {
     "name": "stdout",
     "output_type": "stream",
     "text": [
      "Accuracy on train eval set : 53.79%\n"
     ]
    }
   ],
   "source": [
    "# On crée un dataset custom pour le train eval set\n",
    "dataset_trainval = CustomDataset(img_tensor_dict_trainval, df_trainval,label_map=label_map)\n",
    "\n",
    "# On créé le DataLoader pour le train eval set\n",
    "dataloader_trainval = DataLoader(dataset_trainval, batch_size=batch_size, shuffle=True)\n",
    "\n",
    "# On teste le modèle sur le train eval set\n",
    "correct = 0\n",
    "\n",
    "# On parcourt les batches du dataloader\n",
    "for i, data in enumerate(dataloader_trainval, 0):\n",
    "    # On récupère les tenseurs et les labels\n",
    "    inputs, labels = data\n",
    "    # On fait une prédiction\n",
    "    outputs = net(inputs)\n",
    "    # On récupère l'indice de la valeur maximale\n",
    "    _, predicted = torch.max(outputs, 1)\n",
    "    # On incrémente correct de 1 si la prédiction est correcte\n",
    "    correct += (predicted == labels).sum().item()\n",
    "\n",
    "# On affiche le pourcentage de prédictions correctes\n",
    "print(f'Accuracy on train eval set : {correct / len(dataset_trainval) * 100:.2f}%')\n",
    "\n"
   ]
  },
  {
   "cell_type": "code",
   "execution_count": 145,
   "metadata": {},
   "outputs": [
    {
     "name": "stdout",
     "output_type": "stream",
     "text": [
      "Accuracy on test set : 36.64%\n"
     ]
    }
   ],
   "source": [
    "# On teste le modèle sur le test set\n",
    "correct = 0\n",
    "\n",
    "# On crée un dataset custom pour le test set\n",
    "dataset_test = CustomDataset(img_tensor_dict_test, df_test,label_map=label_map)\n",
    "\n",
    "# On créé le DataLoader pour le test set\n",
    "dataloader_test = DataLoader(dataset_test, batch_size=batch_size, shuffle=True)\n",
    "\n",
    "# On parcourt les batches du dataloader\n",
    "for i, data in enumerate(dataloader_test, 0):\n",
    "    # On récupère les tenseurs et les labels\n",
    "    inputs, labels = data\n",
    "    # On fait une prédiction\n",
    "    outputs = net(inputs)\n",
    "    # On récupère l'indice de la valeur maximale\n",
    "    _, predicted = torch.max(outputs, 1)\n",
    "    # On incrémente correct de 1 si la prédiction est correcte\n",
    "    correct += (predicted == labels).sum().item()\t\n",
    "\n",
    "# On affiche le pourcentage de prédictions correctes\n",
    "print(f'Accuracy on test set : {correct / len(dataset_test) * 100:.2f}%')"
   ]
  },
  {
   "cell_type": "code",
   "execution_count": 36,
   "metadata": {},
   "outputs": [],
   "source": [
    "import time\n",
    "import copy\n",
    "import glob\n",
    "\n",
    "import torch\n",
    "import torchvision\n",
    "import torchvision.transforms as transforms\n",
    "import torchvision.models as models\n",
    "import torch.nn as nn\n",
    "import torch.optim as optim\n",
    "\n",
    "import matplotlib.pyplot as plt"
   ]
  },
  {
   "cell_type": "markdown",
   "metadata": {},
   "source": [
    "# Resnet18"
   ]
  },
  {
   "cell_type": "markdown",
   "metadata": {},
   "source": [
    "Premier test :\n",
    "- Optim : SGD\n",
    "- Criterion : CrossEntropy\n",
    "- Batch size : 4\n",
    "- Epochs : 4"
   ]
  },
  {
   "cell_type": "code",
   "execution_count": 24,
   "metadata": {},
   "outputs": [],
   "source": [
    "import torchvision.models as models"
   ]
  },
  {
   "cell_type": "code",
   "execution_count": 25,
   "metadata": {},
   "outputs": [
    {
     "name": "stderr",
     "output_type": "stream",
     "text": [
      "C:\\Users\\CYTech Student\\AppData\\Roaming\\Python\\Python38\\site-packages\\torchvision\\models\\_utils.py:208: UserWarning: The parameter 'pretrained' is deprecated since 0.13 and may be removed in the future, please use 'weights' instead.\n",
      "  warnings.warn(\n",
      "C:\\Users\\CYTech Student\\AppData\\Roaming\\Python\\Python38\\site-packages\\torchvision\\models\\_utils.py:223: UserWarning: Arguments other than a weight enum or `None` for 'weights' are deprecated since 0.13 and may be removed in the future. The current behavior is equivalent to passing `weights=ResNet18_Weights.IMAGENET1K_V1`. You can also use `weights=ResNet18_Weights.DEFAULT` to get the most up-to-date weights.\n",
      "  warnings.warn(msg)\n"
     ]
    }
   ],
   "source": [
    "resnet18 = models.resnet18(pretrained=True)"
   ]
  },
  {
   "cell_type": "code",
   "execution_count": 40,
   "metadata": {},
   "outputs": [],
   "source": [
    "def set_parameter_requires_grad(model, feature_extracting=True):\n",
    "    if feature_extracting:\n",
    "        for param in model.parameters():\n",
    "            param.requires_grad = False\n",
    "            \n",
    "set_parameter_requires_grad(resnet18)"
   ]
  },
  {
   "cell_type": "code",
   "execution_count": 48,
   "metadata": {},
   "outputs": [],
   "source": [
    "# On initialise une nouvelle couche de sortie\n",
    "resnet18.fc = nn.Linear(512,4)"
   ]
  },
  {
   "cell_type": "code",
   "execution_count": 55,
   "metadata": {},
   "outputs": [
    {
     "name": "stdout",
     "output_type": "stream",
     "text": [
      "epoch 1/4\n"
     ]
    },
    {
     "name": "stderr",
     "output_type": "stream",
     "text": [
      " 14%|█▍        | 202/1460 [00:34<03:34,  5.88it/s]"
     ]
    },
    {
     "name": "stdout",
     "output_type": "stream",
     "text": [
      "[1,   200] loss: 0.914\n"
     ]
    },
    {
     "name": "stderr",
     "output_type": "stream",
     "text": [
      " 27%|██▋       | 401/1460 [01:07<03:10,  5.56it/s]"
     ]
    },
    {
     "name": "stdout",
     "output_type": "stream",
     "text": [
      "[1,   400] loss: 1.007\n"
     ]
    },
    {
     "name": "stderr",
     "output_type": "stream",
     "text": [
      " 41%|████      | 601/1460 [01:45<02:54,  4.93it/s]"
     ]
    },
    {
     "name": "stdout",
     "output_type": "stream",
     "text": [
      "[1,   600] loss: 0.973\n"
     ]
    },
    {
     "name": "stderr",
     "output_type": "stream",
     "text": [
      " 55%|█████▍    | 801/1460 [02:29<02:11,  5.02it/s]"
     ]
    },
    {
     "name": "stdout",
     "output_type": "stream",
     "text": [
      "[1,   800] loss: 0.963\n"
     ]
    },
    {
     "name": "stderr",
     "output_type": "stream",
     "text": [
      " 69%|██████▊   | 1001/1460 [03:08<01:39,  4.60it/s]"
     ]
    },
    {
     "name": "stdout",
     "output_type": "stream",
     "text": [
      "[1,  1000] loss: 0.992\n"
     ]
    },
    {
     "name": "stderr",
     "output_type": "stream",
     "text": [
      " 82%|████████▏ | 1201/1460 [03:50<00:55,  4.69it/s]"
     ]
    },
    {
     "name": "stdout",
     "output_type": "stream",
     "text": [
      "[1,  1200] loss: 1.010\n"
     ]
    },
    {
     "name": "stderr",
     "output_type": "stream",
     "text": [
      " 96%|█████████▌| 1401/1460 [04:34<00:11,  5.10it/s]"
     ]
    },
    {
     "name": "stdout",
     "output_type": "stream",
     "text": [
      "[1,  1400] loss: 0.982\n"
     ]
    },
    {
     "name": "stderr",
     "output_type": "stream",
     "text": [
      "100%|██████████| 1460/1460 [04:45<00:00,  4.75it/s]"
     ]
    },
    {
     "name": "stdout",
     "output_type": "stream",
     "text": [
      "epoch 2/4\n"
     ]
    },
    {
     "name": "stderr",
     "output_type": "stream",
     "text": [
      "100%|██████████| 1460/1460 [04:45<00:00,  5.11it/s]\n",
      " 14%|█▍        | 201/1460 [00:41<03:47,  5.54it/s]"
     ]
    },
    {
     "name": "stdout",
     "output_type": "stream",
     "text": [
      "[2,   200] loss: 1.068\n"
     ]
    },
    {
     "name": "stderr",
     "output_type": "stream",
     "text": [
      " 27%|██▋       | 401/1460 [01:23<03:32,  4.99it/s]"
     ]
    },
    {
     "name": "stdout",
     "output_type": "stream",
     "text": [
      "[2,   400] loss: 1.055\n"
     ]
    },
    {
     "name": "stderr",
     "output_type": "stream",
     "text": [
      " 41%|████      | 601/1460 [02:02<03:01,  4.73it/s]"
     ]
    },
    {
     "name": "stdout",
     "output_type": "stream",
     "text": [
      "[2,   600] loss: 1.132\n"
     ]
    },
    {
     "name": "stderr",
     "output_type": "stream",
     "text": [
      " 55%|█████▍    | 801/1460 [02:43<02:01,  5.41it/s]"
     ]
    },
    {
     "name": "stdout",
     "output_type": "stream",
     "text": [
      "[2,   800] loss: 0.959\n"
     ]
    },
    {
     "name": "stderr",
     "output_type": "stream",
     "text": [
      " 69%|██████▊   | 1001/1460 [03:25<01:43,  4.43it/s]"
     ]
    },
    {
     "name": "stdout",
     "output_type": "stream",
     "text": [
      "[2,  1000] loss: 1.074\n"
     ]
    },
    {
     "name": "stderr",
     "output_type": "stream",
     "text": [
      " 82%|████████▏ | 1202/1460 [04:04<00:50,  5.14it/s]"
     ]
    },
    {
     "name": "stdout",
     "output_type": "stream",
     "text": [
      "[2,  1200] loss: 0.998\n"
     ]
    },
    {
     "name": "stderr",
     "output_type": "stream",
     "text": [
      " 96%|█████████▌| 1401/1460 [04:46<00:11,  5.30it/s]"
     ]
    },
    {
     "name": "stdout",
     "output_type": "stream",
     "text": [
      "[2,  1400] loss: 1.053\n"
     ]
    },
    {
     "name": "stderr",
     "output_type": "stream",
     "text": [
      "100%|██████████| 1460/1460 [04:58<00:00,  4.97it/s]"
     ]
    },
    {
     "name": "stdout",
     "output_type": "stream",
     "text": [
      "epoch 3/4\n"
     ]
    },
    {
     "name": "stderr",
     "output_type": "stream",
     "text": [
      "100%|██████████| 1460/1460 [04:58<00:00,  4.89it/s]\n",
      " 14%|█▍        | 202/1460 [00:42<04:02,  5.18it/s]"
     ]
    },
    {
     "name": "stdout",
     "output_type": "stream",
     "text": [
      "[3,   200] loss: 0.913\n"
     ]
    },
    {
     "name": "stderr",
     "output_type": "stream",
     "text": [
      " 28%|██▊       | 402/1460 [01:24<03:34,  4.94it/s]"
     ]
    },
    {
     "name": "stdout",
     "output_type": "stream",
     "text": [
      "[3,   400] loss: 0.937\n"
     ]
    },
    {
     "name": "stderr",
     "output_type": "stream",
     "text": [
      " 41%|████      | 601/1460 [02:04<03:03,  4.67it/s]"
     ]
    },
    {
     "name": "stdout",
     "output_type": "stream",
     "text": [
      "[3,   600] loss: 0.991\n"
     ]
    },
    {
     "name": "stderr",
     "output_type": "stream",
     "text": [
      " 55%|█████▍    | 801/1460 [02:45<02:22,  4.64it/s]"
     ]
    },
    {
     "name": "stdout",
     "output_type": "stream",
     "text": [
      "[3,   800] loss: 1.001\n"
     ]
    },
    {
     "name": "stderr",
     "output_type": "stream",
     "text": [
      " 69%|██████▊   | 1002/1460 [03:26<01:26,  5.31it/s]"
     ]
    },
    {
     "name": "stdout",
     "output_type": "stream",
     "text": [
      "[3,  1000] loss: 0.957\n"
     ]
    },
    {
     "name": "stderr",
     "output_type": "stream",
     "text": [
      " 82%|████████▏ | 1201/1460 [04:09<00:53,  4.81it/s]"
     ]
    },
    {
     "name": "stdout",
     "output_type": "stream",
     "text": [
      "[3,  1200] loss: 1.049\n"
     ]
    },
    {
     "name": "stderr",
     "output_type": "stream",
     "text": [
      " 96%|█████████▌| 1401/1460 [04:48<00:12,  4.81it/s]"
     ]
    },
    {
     "name": "stdout",
     "output_type": "stream",
     "text": [
      "[3,  1400] loss: 1.113\n"
     ]
    },
    {
     "name": "stderr",
     "output_type": "stream",
     "text": [
      "100%|██████████| 1460/1460 [05:02<00:00,  4.54it/s]"
     ]
    },
    {
     "name": "stdout",
     "output_type": "stream",
     "text": [
      "epoch 4/4\n"
     ]
    },
    {
     "name": "stderr",
     "output_type": "stream",
     "text": [
      "100%|██████████| 1460/1460 [05:03<00:00,  4.82it/s]\n",
      " 14%|█▍        | 201/1460 [00:39<04:00,  5.23it/s]"
     ]
    },
    {
     "name": "stdout",
     "output_type": "stream",
     "text": [
      "[4,   200] loss: 0.962\n"
     ]
    },
    {
     "name": "stderr",
     "output_type": "stream",
     "text": [
      " 28%|██▊       | 402/1460 [01:20<03:08,  5.62it/s]"
     ]
    },
    {
     "name": "stdout",
     "output_type": "stream",
     "text": [
      "[4,   400] loss: 0.971\n"
     ]
    },
    {
     "name": "stderr",
     "output_type": "stream",
     "text": [
      " 41%|████      | 601/1460 [02:00<03:04,  4.66it/s]"
     ]
    },
    {
     "name": "stdout",
     "output_type": "stream",
     "text": [
      "[4,   600] loss: 1.050\n"
     ]
    },
    {
     "name": "stderr",
     "output_type": "stream",
     "text": [
      " 55%|█████▍    | 801/1460 [02:40<02:08,  5.11it/s]"
     ]
    },
    {
     "name": "stdout",
     "output_type": "stream",
     "text": [
      "[4,   800] loss: 0.997\n"
     ]
    },
    {
     "name": "stderr",
     "output_type": "stream",
     "text": [
      " 69%|██████▊   | 1001/1460 [03:21<01:30,  5.05it/s]"
     ]
    },
    {
     "name": "stdout",
     "output_type": "stream",
     "text": [
      "[4,  1000] loss: 1.005\n"
     ]
    },
    {
     "name": "stderr",
     "output_type": "stream",
     "text": [
      " 82%|████████▏ | 1201/1460 [04:03<00:47,  5.44it/s]"
     ]
    },
    {
     "name": "stdout",
     "output_type": "stream",
     "text": [
      "[4,  1200] loss: 1.009\n"
     ]
    },
    {
     "name": "stderr",
     "output_type": "stream",
     "text": [
      " 96%|█████████▌| 1401/1460 [04:45<00:13,  4.28it/s]"
     ]
    },
    {
     "name": "stdout",
     "output_type": "stream",
     "text": [
      "[4,  1400] loss: 0.977\n"
     ]
    },
    {
     "name": "stderr",
     "output_type": "stream",
     "text": [
      "100%|██████████| 1460/1460 [04:57<00:00,  4.90it/s]\n"
     ]
    }
   ],
   "source": [
    "# On entraine le modèle\n",
    "training_stats = train_model(resnet18, dataloader_train, epochs=4)"
   ]
  },
  {
   "cell_type": "code",
   "execution_count": 56,
   "metadata": {},
   "outputs": [
    {
     "name": "stderr",
     "output_type": "stream",
     "text": [
      "  0%|          | 1/1460 [1:24:48<2062:16:34, 5088.55s/it]\n",
      "  0%|          | 1/1460 [1:15:27<1834:44:45, 4527.13s/it]\n"
     ]
    },
    {
     "data": {
      "image/png": "[encoded data removed]",
      "text/plain": [
       "<Figure size 432x288 with 1 Axes>"
      ]
     },
     "metadata": {
      "needs_background": "light"
     },
     "output_type": "display_data"
    }
   ],
   "source": [
    "# On utilise training_stats pour afficher la courbe d'apprentissage\n",
    "import matplotlib.pyplot as plt\n",
    "\n",
    "model,loss_stats = training_stats\n",
    "\n",
    "# On affiche la courbe d'apprentissage avec loss / batch\n",
    "\n",
    "loss,iteration,epoch = zip(*loss_stats)\n",
    "\n",
    "# Pour chaque i on ajoute les i précédents\n",
    "new_i = [sum(iteration[:i+1]) for i in range(len(iteration))]\n",
    "\n",
    "plt.plot(new_i,loss)\n",
    "plt.xlabel('iteration')\n",
    "plt.ylabel('loss')\n",
    "plt.title('loss / iteration')\n",
    "plt.show()\n",
    "\n",
    "\n",
    "# On créé un répertoire model + date et heure\n",
    "import os\n",
    "from datetime import datetime\n",
    "\n",
    "# On récupère la date et l'heure\n",
    "now = datetime.now()\n",
    "\n",
    "# On créé le répertoire\n",
    "os.mkdir('model_' + now.strftime(\"%d_%m_%Y_%H_%M_%S\"))\n",
    "\n",
    "# On sauvegarde le modèle\n",
    "torch.save(model.state_dict(), 'model_' + now.strftime(\"%d_%m_%Y_%H_%M_%S\") + '/model.pth')\n",
    "\n",
    "# On sauvegarde loss et iteration dans un fichier csv\n",
    "df = pd.DataFrame({'loss':loss,'iteration':new_i})\n",
    "\n",
    "# On sauvegarde le dataframe dans un fichier csv\n",
    "df.to_csv('model_' + now.strftime(\"%d_%m_%Y_%H_%M_%S\") + '/loss.csv', index=False)"
   ]
  },
  {
   "cell_type": "code",
   "execution_count": 57,
   "metadata": {},
   "outputs": [
    {
     "name": "stdout",
     "output_type": "stream",
     "text": [
      "Accuracy on train eval set : 60.75%\n"
     ]
    }
   ],
   "source": [
    "# On crée un dataset custom pour le train eval set\n",
    "dataset_trainval = CustomDataset(img_tensor_dict_trainval, df_trainval,label_map=label_map)\n",
    "\n",
    "# On créé le DataLoader pour le train eval set\n",
    "dataloader_trainval = DataLoader(dataset_trainval, batch_size=batch_size, shuffle=True)\n",
    "\n",
    "\n",
    "# On teste le modèle sur le test set\n",
    "correct = 0\n",
    "\n",
    "# On parcourt les batches du dataloader\n",
    "for i, data in enumerate(dataloader_trainval, 0):\n",
    "    # On récupère les tenseurs et les labels\n",
    "    inputs, labels = data\n",
    "    # On fait une prédiction\n",
    "    outputs = resnet18(inputs)\n",
    "    # On récupère l'indice de la valeur maximale\n",
    "    _, predicted = torch.max(outputs, 1)\n",
    "    # On incrémente correct de 1 si la prédiction est correcte\n",
    "    correct += (predicted == labels).sum().item()\n",
    "\n",
    "# On affiche le pourcentage de prédictions correctes\n",
    "print(f'Accuracy on train eval set : {correct / len(dataset_trainval) * 100:.2f}%')"
   ]
  },
  {
   "cell_type": "markdown",
   "metadata": {},
   "source": [
    "Deuxième test :\n",
    "- Optim : Adam\n",
    "- Criterion : CrossEntropy\n",
    "- Batch size : 4\n",
    "- Epochs : 4"
   ]
  },
  {
   "cell_type": "code",
   "execution_count": 58,
   "metadata": {},
   "outputs": [],
   "source": [
    "# On créé une fonction d'entrainement du modèle\n",
    "# Cette fonction possède aussi une barre de progression sous forme de pourcentage avec tqdm\n",
    "# Cette barre de progression se rempli à chaque epoch\n",
    "\n",
    "import torch.optim as optim\n",
    "\n",
    "def train_model(model, dataloader, epochs):\n",
    "\n",
    "    # On définit la fonction de coût\n",
    "    criterion = nn.CrossEntropyLoss()\n",
    "\n",
    "    # On définit l'optimiseur\n",
    "    optimizer = optim.Adam(model.parameters(), lr=0.001)\n",
    "\n",
    "    \n",
    "\n",
    "    # On parcourt les epochs\n",
    "    for epoch in range(epochs):\n",
    "        loss_stats = []\n",
    "       \n",
    "\n",
    "        # On affiche l'epoch en cours\n",
    "        print(f'epoch {epoch+1}/{epochs}')\n",
    "\n",
    "        # On affiche la barre de progression sous forme de pourcentage sur le notebook\n",
    "        pbar = tqdm(total=len(dataloader), position=0, leave=True)\n",
    "\n",
    "        \n",
    "\n",
    "        # On initialise la running_loss à 0\n",
    "        running_loss = 0.0\n",
    "\n",
    "        # On parcourt les batches du dataloader\n",
    "        for i, data in enumerate(dataloader, 0):\n",
    "\n",
    "            # On affiche la barre de progression sous forme de pourcentage sur le notebook\n",
    "            pbar.update(1)\n",
    "\n",
    "            # On récupère les tenseurs et les labels\n",
    "            inputs, labels = data\n",
    "\n",
    "            # On met les gradients à zéro\n",
    "            optimizer.zero_grad()\n",
    "\n",
    "            # On fait une prédiction\n",
    "            outputs = model(inputs)\n",
    "\n",
    "            # On calcule la fonction de coût\n",
    "            loss = criterion(outputs, labels)\n",
    "\n",
    "            # On calcule les gradients\n",
    "            loss.backward()\n",
    "\n",
    "            # On met à jour les paramètres\n",
    "            optimizer.step()\n",
    "\n",
    "            # Tous les 20 batches, on affiche :\n",
    "            running_loss += loss.item()\n",
    "            if i % 200 == 199:    # print every 20 mini-batches\n",
    "                print(f'[{epoch + 1}, {i + 1:5d}] loss: {running_loss / 200:.3f}')\n",
    "                loss_stats.append((running_loss / 200,i,epoch))\n",
    "                running_loss = 0.0\n",
    "\n",
    "    # On ferme la barre de progression\n",
    "    pbar.close()\n",
    "    \n",
    "    # On retourne le modèle\n",
    "    return model, loss_stats\n",
    "\n",
    "\n",
    "\n"
   ]
  },
  {
   "cell_type": "code",
   "execution_count": 59,
   "metadata": {},
   "outputs": [
    {
     "name": "stdout",
     "output_type": "stream",
     "text": [
      "epoch 1/4\n"
     ]
    },
    {
     "name": "stderr",
     "output_type": "stream",
     "text": [
      " 14%|█▍        | 201/1460 [00:37<04:08,  5.06it/s]"
     ]
    },
    {
     "name": "stdout",
     "output_type": "stream",
     "text": [
      "[1,   200] loss: 0.921\n"
     ]
    },
    {
     "name": "stderr",
     "output_type": "stream",
     "text": [
      " 27%|██▋       | 401/1460 [01:17<03:29,  5.06it/s]"
     ]
    },
    {
     "name": "stdout",
     "output_type": "stream",
     "text": [
      "[1,   400] loss: 0.873\n"
     ]
    },
    {
     "name": "stderr",
     "output_type": "stream",
     "text": [
      " 41%|████      | 601/1460 [02:02<03:36,  3.97it/s]"
     ]
    },
    {
     "name": "stdout",
     "output_type": "stream",
     "text": [
      "[1,   600] loss: 0.918\n"
     ]
    },
    {
     "name": "stderr",
     "output_type": "stream",
     "text": [
      " 55%|█████▍    | 801/1460 [02:50<02:13,  4.93it/s]"
     ]
    },
    {
     "name": "stdout",
     "output_type": "stream",
     "text": [
      "[1,   800] loss: 0.928\n"
     ]
    },
    {
     "name": "stderr",
     "output_type": "stream",
     "text": [
      " 69%|██████▊   | 1001/1460 [03:36<01:49,  4.17it/s]"
     ]
    },
    {
     "name": "stdout",
     "output_type": "stream",
     "text": [
      "[1,  1000] loss: 0.837\n"
     ]
    },
    {
     "name": "stderr",
     "output_type": "stream",
     "text": [
      " 82%|████████▏ | 1201/1460 [04:20<00:58,  4.40it/s]"
     ]
    },
    {
     "name": "stdout",
     "output_type": "stream",
     "text": [
      "[1,  1200] loss: 0.888\n"
     ]
    },
    {
     "name": "stderr",
     "output_type": "stream",
     "text": [
      " 96%|█████████▌| 1401/1460 [05:06<00:12,  4.70it/s]"
     ]
    },
    {
     "name": "stdout",
     "output_type": "stream",
     "text": [
      "[1,  1400] loss: 0.910\n"
     ]
    },
    {
     "name": "stderr",
     "output_type": "stream",
     "text": [
      "100%|██████████| 1460/1460 [05:19<00:00,  4.28it/s]"
     ]
    },
    {
     "name": "stdout",
     "output_type": "stream",
     "text": [
      "epoch 2/4\n"
     ]
    },
    {
     "name": "stderr",
     "output_type": "stream",
     "text": [
      "100%|██████████| 1460/1460 [05:19<00:00,  4.56it/s]\n",
      " 14%|█▍        | 202/1460 [00:44<04:24,  4.76it/s]"
     ]
    },
    {
     "name": "stdout",
     "output_type": "stream",
     "text": [
      "[2,   200] loss: 0.833\n"
     ]
    },
    {
     "name": "stderr",
     "output_type": "stream",
     "text": [
      " 27%|██▋       | 401/1460 [01:28<03:48,  4.64it/s]"
     ]
    },
    {
     "name": "stdout",
     "output_type": "stream",
     "text": [
      "[2,   400] loss: 0.895\n"
     ]
    },
    {
     "name": "stderr",
     "output_type": "stream",
     "text": [
      " 41%|████      | 602/1460 [02:12<02:52,  4.98it/s]"
     ]
    },
    {
     "name": "stdout",
     "output_type": "stream",
     "text": [
      "[2,   600] loss: 0.882\n"
     ]
    },
    {
     "name": "stderr",
     "output_type": "stream",
     "text": [
      " 55%|█████▍    | 802/1460 [02:57<02:23,  4.60it/s]"
     ]
    },
    {
     "name": "stdout",
     "output_type": "stream",
     "text": [
      "[2,   800] loss: 0.911\n"
     ]
    },
    {
     "name": "stderr",
     "output_type": "stream",
     "text": [
      " 69%|██████▊   | 1001/1460 [03:40<01:49,  4.18it/s]"
     ]
    },
    {
     "name": "stdout",
     "output_type": "stream",
     "text": [
      "[2,  1000] loss: 0.909\n"
     ]
    },
    {
     "name": "stderr",
     "output_type": "stream",
     "text": [
      " 82%|████████▏ | 1201/1460 [04:24<00:56,  4.62it/s]"
     ]
    },
    {
     "name": "stdout",
     "output_type": "stream",
     "text": [
      "[2,  1200] loss: 0.816\n"
     ]
    },
    {
     "name": "stderr",
     "output_type": "stream",
     "text": [
      " 96%|█████████▌| 1401/1460 [05:08<00:12,  4.88it/s]"
     ]
    },
    {
     "name": "stdout",
     "output_type": "stream",
     "text": [
      "[2,  1400] loss: 0.873\n"
     ]
    },
    {
     "name": "stderr",
     "output_type": "stream",
     "text": [
      "100%|██████████| 1460/1460 [05:20<00:00,  4.57it/s]"
     ]
    },
    {
     "name": "stdout",
     "output_type": "stream",
     "text": [
      "epoch 3/4\n"
     ]
    },
    {
     "name": "stderr",
     "output_type": "stream",
     "text": [
      "100%|██████████| 1460/1460 [05:21<00:00,  4.55it/s]\n",
      " 14%|█▍        | 201/1460 [00:44<04:09,  5.05it/s]"
     ]
    },
    {
     "name": "stdout",
     "output_type": "stream",
     "text": [
      "[3,   200] loss: 0.881\n"
     ]
    },
    {
     "name": "stderr",
     "output_type": "stream",
     "text": [
      " 27%|██▋       | 401/1460 [01:28<03:50,  4.60it/s]"
     ]
    },
    {
     "name": "stdout",
     "output_type": "stream",
     "text": [
      "[3,   400] loss: 0.887\n"
     ]
    },
    {
     "name": "stderr",
     "output_type": "stream",
     "text": [
      " 41%|████      | 601/1460 [02:11<02:57,  4.84it/s]"
     ]
    },
    {
     "name": "stdout",
     "output_type": "stream",
     "text": [
      "[3,   600] loss: 0.837\n"
     ]
    },
    {
     "name": "stderr",
     "output_type": "stream",
     "text": [
      " 55%|█████▍    | 802/1460 [02:54<02:15,  4.86it/s]"
     ]
    },
    {
     "name": "stdout",
     "output_type": "stream",
     "text": [
      "[3,   800] loss: 0.917\n"
     ]
    },
    {
     "name": "stderr",
     "output_type": "stream",
     "text": [
      " 69%|██████▊   | 1001/1460 [03:40<01:38,  4.64it/s]"
     ]
    },
    {
     "name": "stdout",
     "output_type": "stream",
     "text": [
      "[3,  1000] loss: 0.906\n"
     ]
    },
    {
     "name": "stderr",
     "output_type": "stream",
     "text": [
      " 82%|████████▏ | 1201/1460 [04:24<01:08,  3.78it/s]"
     ]
    },
    {
     "name": "stdout",
     "output_type": "stream",
     "text": [
      "[3,  1200] loss: 0.890\n"
     ]
    },
    {
     "name": "stderr",
     "output_type": "stream",
     "text": [
      " 96%|█████████▌| 1401/1460 [05:15<00:14,  4.09it/s]"
     ]
    },
    {
     "name": "stdout",
     "output_type": "stream",
     "text": [
      "[3,  1400] loss: 0.877\n"
     ]
    },
    {
     "name": "stderr",
     "output_type": "stream",
     "text": [
      "100%|██████████| 1460/1460 [05:30<00:00,  3.73it/s]"
     ]
    },
    {
     "name": "stdout",
     "output_type": "stream",
     "text": [
      "epoch 4/4\n"
     ]
    },
    {
     "name": "stderr",
     "output_type": "stream",
     "text": [
      "100%|██████████| 1460/1460 [05:31<00:00,  4.41it/s]\n",
      " 14%|█▍        | 201/1460 [00:47<04:58,  4.21it/s]"
     ]
    },
    {
     "name": "stdout",
     "output_type": "stream",
     "text": [
      "[4,   200] loss: 0.886\n"
     ]
    },
    {
     "name": "stderr",
     "output_type": "stream",
     "text": [
      " 27%|██▋       | 401/1460 [01:34<03:54,  4.51it/s]"
     ]
    },
    {
     "name": "stdout",
     "output_type": "stream",
     "text": [
      "[4,   400] loss: 0.836\n"
     ]
    },
    {
     "name": "stderr",
     "output_type": "stream",
     "text": [
      " 41%|████      | 601/1460 [02:21<03:07,  4.58it/s]"
     ]
    },
    {
     "name": "stdout",
     "output_type": "stream",
     "text": [
      "[4,   600] loss: 0.881\n"
     ]
    },
    {
     "name": "stderr",
     "output_type": "stream",
     "text": [
      " 55%|█████▍    | 801/1460 [03:08<02:22,  4.62it/s]"
     ]
    },
    {
     "name": "stdout",
     "output_type": "stream",
     "text": [
      "[4,   800] loss: 0.865\n"
     ]
    },
    {
     "name": "stderr",
     "output_type": "stream",
     "text": [
      " 69%|██████▊   | 1001/1460 [03:56<01:48,  4.22it/s]"
     ]
    },
    {
     "name": "stdout",
     "output_type": "stream",
     "text": [
      "[4,  1000] loss: 0.906\n"
     ]
    },
    {
     "name": "stderr",
     "output_type": "stream",
     "text": [
      " 82%|████████▏ | 1201/1460 [04:43<01:02,  4.13it/s]"
     ]
    },
    {
     "name": "stdout",
     "output_type": "stream",
     "text": [
      "[4,  1200] loss: 0.850\n"
     ]
    },
    {
     "name": "stderr",
     "output_type": "stream",
     "text": [
      " 96%|█████████▌| 1401/1460 [05:28<00:13,  4.45it/s]"
     ]
    },
    {
     "name": "stdout",
     "output_type": "stream",
     "text": [
      "[4,  1400] loss: 0.873\n"
     ]
    },
    {
     "name": "stderr",
     "output_type": "stream",
     "text": [
      "100%|██████████| 1460/1460 [05:43<00:00,  4.26it/s]\n"
     ]
    }
   ],
   "source": [
    "# On entraine le modèle\n",
    "training_stats = train_model(resnet18, dataloader_train, epochs=4)"
   ]
  },
  {
   "cell_type": "code",
   "execution_count": 60,
   "metadata": {},
   "outputs": [
    {
     "data": {
      "image/png": "[encoded data removed]",
      "text/plain": [
       "<Figure size 432x288 with 1 Axes>"
      ]
     },
     "metadata": {
      "needs_background": "light"
     },
     "output_type": "display_data"
    }
   ],
   "source": [
    "# On utilise training_stats pour afficher la courbe d'apprentissage\n",
    "import matplotlib.pyplot as plt\n",
    "\n",
    "model,loss_stats = training_stats\n",
    "\n",
    "# On affiche la courbe d'apprentissage avec loss / batch\n",
    "\n",
    "loss,iteration,epoch = zip(*loss_stats)\n",
    "\n",
    "# Pour chaque i on ajoute les i précédents\n",
    "new_i = [sum(iteration[:i+1]) for i in range(len(iteration))]\n",
    "\n",
    "plt.plot(new_i,loss)\n",
    "plt.xlabel('iteration')\n",
    "plt.ylabel('loss')\n",
    "plt.title('loss / iteration')\n",
    "plt.show()\n",
    "\n",
    "\n",
    "# On créé un répertoire model + date et heure\n",
    "import os\n",
    "from datetime import datetime\n",
    "\n",
    "# On récupère la date et l'heure\n",
    "now = datetime.now()\n",
    "\n",
    "# On créé le répertoire\n",
    "os.mkdir('model_' + now.strftime(\"%d_%m_%Y_%H_%M_%S\"))\n",
    "\n",
    "# On sauvegarde le modèle\n",
    "torch.save(model.state_dict(), 'model_' + now.strftime(\"%d_%m_%Y_%H_%M_%S\") + '/model.pth')\n",
    "\n",
    "# On sauvegarde loss et iteration dans un fichier csv\n",
    "df = pd.DataFrame({'loss':loss,'iteration':new_i})\n",
    "\n",
    "# On sauvegarde le dataframe dans un fichier csv\n",
    "df.to_csv('model_' + now.strftime(\"%d_%m_%Y_%H_%M_%S\") + '/loss.csv', index=False)"
   ]
  },
  {
   "cell_type": "code",
   "execution_count": 61,
   "metadata": {},
   "outputs": [
    {
     "name": "stdout",
     "output_type": "stream",
     "text": [
      "Accuracy on train eval set : 62.82%\n"
     ]
    }
   ],
   "source": [
    "# On crée un dataset custom pour le train eval set\n",
    "dataset_trainval = CustomDataset(img_tensor_dict_trainval, df_trainval,label_map=label_map)\n",
    "\n",
    "# On créé le DataLoader pour le train eval set\n",
    "dataloader_trainval = DataLoader(dataset_trainval, batch_size=batch_size, shuffle=True)\n",
    "\n",
    "\n",
    "# On teste le modèle sur le test set\n",
    "correct = 0\n",
    "\n",
    "# On parcourt les batches du dataloader\n",
    "for i, data in enumerate(dataloader_trainval, 0):\n",
    "    # On récupère les tenseurs et les labels\n",
    "    inputs, labels = data\n",
    "    # On fait une prédiction\n",
    "    outputs = resnet18(inputs)\n",
    "    # On récupère l'indice de la valeur maximale\n",
    "    _, predicted = torch.max(outputs, 1)\n",
    "    # On incrémente correct de 1 si la prédiction est correcte\n",
    "    correct += (predicted == labels).sum().item()\n",
    "\n",
    "# On affiche le pourcentage de prédictions correctes\n",
    "print(f'Accuracy on train eval set : {correct / len(dataset_trainval) * 100:.2f}%')"
   ]
  },
  {
   "cell_type": "markdown",
   "metadata": {},
   "source": [
    "Troisième test :\n",
    "- Optim : Adam\n",
    "- Criterion : CrossEntropy\n",
    "- Batch size : 20\n",
    "- Epochs : 4"
   ]
  },
  {
   "cell_type": "code",
   "execution_count": 62,
   "metadata": {},
   "outputs": [],
   "source": [
    "batch_size = 4\n",
    "\n",
    "dataloader_train = DataLoader(dataset_train, batch_size=batch_size, shuffle=True)"
   ]
  },
  {
   "cell_type": "code",
   "execution_count": 63,
   "metadata": {},
   "outputs": [
    {
     "name": "stdout",
     "output_type": "stream",
     "text": [
      "epoch 1/4\n"
     ]
    },
    {
     "name": "stderr",
     "output_type": "stream",
     "text": [
      " 14%|█▍        | 202/1460 [00:34<03:21,  6.25it/s]"
     ]
    },
    {
     "name": "stdout",
     "output_type": "stream",
     "text": [
      "[1,   200] loss: 0.849\n"
     ]
    },
    {
     "name": "stderr",
     "output_type": "stream",
     "text": [
      " 28%|██▊       | 402/1460 [01:07<02:49,  6.23it/s]"
     ]
    },
    {
     "name": "stdout",
     "output_type": "stream",
     "text": [
      "[1,   400] loss: 0.915\n"
     ]
    },
    {
     "name": "stderr",
     "output_type": "stream",
     "text": [
      " 41%|████      | 601/1460 [01:41<02:30,  5.69it/s]"
     ]
    },
    {
     "name": "stdout",
     "output_type": "stream",
     "text": [
      "[1,   600] loss: 0.854\n"
     ]
    },
    {
     "name": "stderr",
     "output_type": "stream",
     "text": [
      " 55%|█████▍    | 801/1460 [02:19<02:06,  5.22it/s]"
     ]
    },
    {
     "name": "stdout",
     "output_type": "stream",
     "text": [
      "[1,   800] loss: 0.858\n"
     ]
    },
    {
     "name": "stderr",
     "output_type": "stream",
     "text": [
      " 69%|██████▊   | 1001/1460 [02:59<01:32,  4.94it/s]"
     ]
    },
    {
     "name": "stdout",
     "output_type": "stream",
     "text": [
      "[1,  1000] loss: 0.939\n"
     ]
    },
    {
     "name": "stderr",
     "output_type": "stream",
     "text": [
      " 82%|████████▏ | 1201/1460 [03:40<00:53,  4.86it/s]"
     ]
    },
    {
     "name": "stdout",
     "output_type": "stream",
     "text": [
      "[1,  1200] loss: 0.831\n"
     ]
    },
    {
     "name": "stderr",
     "output_type": "stream",
     "text": [
      " 96%|█████████▌| 1401/1460 [04:23<00:13,  4.52it/s]"
     ]
    },
    {
     "name": "stdout",
     "output_type": "stream",
     "text": [
      "[1,  1400] loss: 0.934\n"
     ]
    },
    {
     "name": "stderr",
     "output_type": "stream",
     "text": [
      "100%|██████████| 1460/1460 [04:36<00:00,  4.67it/s]"
     ]
    },
    {
     "name": "stdout",
     "output_type": "stream",
     "text": [
      "epoch 2/4\n"
     ]
    },
    {
     "name": "stderr",
     "output_type": "stream",
     "text": [
      "100%|██████████| 1460/1460 [04:36<00:00,  5.28it/s]\n",
      " 14%|█▍        | 201/1460 [00:41<04:21,  4.82it/s]"
     ]
    },
    {
     "name": "stdout",
     "output_type": "stream",
     "text": [
      "[2,   200] loss: 0.901\n"
     ]
    },
    {
     "name": "stderr",
     "output_type": "stream",
     "text": [
      " 27%|██▋       | 401/1460 [01:23<03:35,  4.92it/s]"
     ]
    },
    {
     "name": "stdout",
     "output_type": "stream",
     "text": [
      "[2,   400] loss: 0.867\n"
     ]
    },
    {
     "name": "stderr",
     "output_type": "stream",
     "text": [
      " 41%|████      | 601/1460 [02:05<02:56,  4.88it/s]"
     ]
    },
    {
     "name": "stdout",
     "output_type": "stream",
     "text": [
      "[2,   600] loss: 0.916\n"
     ]
    },
    {
     "name": "stderr",
     "output_type": "stream",
     "text": [
      " 55%|█████▍    | 801/1460 [02:48<02:26,  4.49it/s]"
     ]
    },
    {
     "name": "stdout",
     "output_type": "stream",
     "text": [
      "[2,   800] loss: 0.906\n"
     ]
    },
    {
     "name": "stderr",
     "output_type": "stream",
     "text": [
      " 69%|██████▊   | 1001/1460 [03:29<01:35,  4.82it/s]"
     ]
    },
    {
     "name": "stdout",
     "output_type": "stream",
     "text": [
      "[2,  1000] loss: 0.869\n"
     ]
    },
    {
     "name": "stderr",
     "output_type": "stream",
     "text": [
      " 82%|████████▏ | 1202/1460 [04:12<00:51,  5.04it/s]"
     ]
    },
    {
     "name": "stdout",
     "output_type": "stream",
     "text": [
      "[2,  1200] loss: 0.873\n"
     ]
    },
    {
     "name": "stderr",
     "output_type": "stream",
     "text": [
      " 96%|█████████▌| 1401/1460 [04:55<00:13,  4.51it/s]"
     ]
    },
    {
     "name": "stdout",
     "output_type": "stream",
     "text": [
      "[2,  1400] loss: 0.906\n"
     ]
    },
    {
     "name": "stderr",
     "output_type": "stream",
     "text": [
      "100%|██████████| 1460/1460 [05:07<00:00,  4.99it/s]"
     ]
    },
    {
     "name": "stdout",
     "output_type": "stream",
     "text": [
      "epoch 3/4\n"
     ]
    },
    {
     "name": "stderr",
     "output_type": "stream",
     "text": [
      "100%|██████████| 1460/1460 [05:07<00:00,  4.74it/s]\n",
      " 14%|█▍        | 201/1460 [00:42<05:08,  4.08it/s]"
     ]
    },
    {
     "name": "stdout",
     "output_type": "stream",
     "text": [
      "[3,   200] loss: 0.843\n"
     ]
    },
    {
     "name": "stderr",
     "output_type": "stream",
     "text": [
      " 27%|██▋       | 401/1460 [01:25<03:36,  4.88it/s]"
     ]
    },
    {
     "name": "stdout",
     "output_type": "stream",
     "text": [
      "[3,   400] loss: 0.943\n"
     ]
    },
    {
     "name": "stderr",
     "output_type": "stream",
     "text": [
      " 41%|████      | 601/1460 [02:11<02:48,  5.11it/s]"
     ]
    },
    {
     "name": "stdout",
     "output_type": "stream",
     "text": [
      "[3,   600] loss: 0.822\n"
     ]
    },
    {
     "name": "stderr",
     "output_type": "stream",
     "text": [
      " 55%|█████▍    | 801/1460 [02:57<02:26,  4.49it/s]"
     ]
    },
    {
     "name": "stdout",
     "output_type": "stream",
     "text": [
      "[3,   800] loss: 0.929\n"
     ]
    },
    {
     "name": "stderr",
     "output_type": "stream",
     "text": [
      " 69%|██████▊   | 1001/1460 [03:39<01:45,  4.37it/s]"
     ]
    },
    {
     "name": "stdout",
     "output_type": "stream",
     "text": [
      "[3,  1000] loss: 0.845\n"
     ]
    },
    {
     "name": "stderr",
     "output_type": "stream",
     "text": [
      " 82%|████████▏ | 1202/1460 [04:22<00:56,  4.58it/s]"
     ]
    },
    {
     "name": "stdout",
     "output_type": "stream",
     "text": [
      "[3,  1200] loss: 0.859\n"
     ]
    },
    {
     "name": "stderr",
     "output_type": "stream",
     "text": [
      " 96%|█████████▌| 1401/1460 [05:09<00:19,  3.08it/s]"
     ]
    },
    {
     "name": "stdout",
     "output_type": "stream",
     "text": [
      "[3,  1400] loss: 0.942\n"
     ]
    },
    {
     "name": "stderr",
     "output_type": "stream",
     "text": [
      "100%|██████████| 1460/1460 [05:25<00:00,  3.15it/s]"
     ]
    },
    {
     "name": "stdout",
     "output_type": "stream",
     "text": [
      "epoch 4/4\n"
     ]
    },
    {
     "name": "stderr",
     "output_type": "stream",
     "text": [
      "100%|██████████| 1460/1460 [05:25<00:00,  4.48it/s]\n",
      " 14%|█▍        | 201/1460 [00:44<04:46,  4.39it/s]"
     ]
    },
    {
     "name": "stdout",
     "output_type": "stream",
     "text": [
      "[4,   200] loss: 0.914\n"
     ]
    },
    {
     "name": "stderr",
     "output_type": "stream",
     "text": [
      " 27%|██▋       | 401/1460 [01:28<03:25,  5.16it/s]"
     ]
    },
    {
     "name": "stdout",
     "output_type": "stream",
     "text": [
      "[4,   400] loss: 0.866\n"
     ]
    },
    {
     "name": "stderr",
     "output_type": "stream",
     "text": [
      " 41%|████      | 602/1460 [02:17<02:54,  4.92it/s]"
     ]
    },
    {
     "name": "stdout",
     "output_type": "stream",
     "text": [
      "[4,   600] loss: 0.900\n"
     ]
    },
    {
     "name": "stderr",
     "output_type": "stream",
     "text": [
      " 55%|█████▍    | 801/1460 [03:03<02:47,  3.92it/s]"
     ]
    },
    {
     "name": "stdout",
     "output_type": "stream",
     "text": [
      "[4,   800] loss: 0.917\n"
     ]
    },
    {
     "name": "stderr",
     "output_type": "stream",
     "text": [
      " 69%|██████▊   | 1001/1460 [03:45<01:43,  4.45it/s]"
     ]
    },
    {
     "name": "stdout",
     "output_type": "stream",
     "text": [
      "[4,  1000] loss: 0.881\n"
     ]
    },
    {
     "name": "stderr",
     "output_type": "stream",
     "text": [
      " 82%|████████▏ | 1201/1460 [04:26<00:47,  5.42it/s]"
     ]
    },
    {
     "name": "stdout",
     "output_type": "stream",
     "text": [
      "[4,  1200] loss: 0.874\n"
     ]
    },
    {
     "name": "stderr",
     "output_type": "stream",
     "text": [
      " 96%|█████████▌| 1401/1460 [05:09<00:12,  4.85it/s]"
     ]
    },
    {
     "name": "stdout",
     "output_type": "stream",
     "text": [
      "[4,  1400] loss: 0.867\n"
     ]
    },
    {
     "name": "stderr",
     "output_type": "stream",
     "text": [
      "100%|██████████| 1460/1460 [05:21<00:00,  4.54it/s]\n"
     ]
    }
   ],
   "source": [
    "# On entraine le modèle\n",
    "training_stats = train_model(resnet18, dataloader_train, epochs=4)"
   ]
  },
  {
   "cell_type": "code",
   "execution_count": 64,
   "metadata": {},
   "outputs": [
    {
     "name": "stdout",
     "output_type": "stream",
     "text": [
      "Accuracy on train eval set : 59.33%\n"
     ]
    }
   ],
   "source": [
    "# On crée un dataset custom pour le train eval set\n",
    "dataset_trainval = CustomDataset(img_tensor_dict_trainval, df_trainval,label_map=label_map)\n",
    "\n",
    "# On créé le DataLoader pour le train eval set\n",
    "dataloader_trainval = DataLoader(dataset_trainval, batch_size=batch_size, shuffle=True)\n",
    "\n",
    "\n",
    "# On teste le modèle sur le test set\n",
    "correct = 0\n",
    "\n",
    "# On parcourt les batches du dataloader\n",
    "for i, data in enumerate(dataloader_trainval, 0):\n",
    "    # On récupère les tenseurs et les labels\n",
    "    inputs, labels = data\n",
    "    # On fait une prédiction\n",
    "    outputs = resnet18(inputs)\n",
    "    # On récupère l'indice de la valeur maximale\n",
    "    _, predicted = torch.max(outputs, 1)\n",
    "    # On incrémente correct de 1 si la prédiction est correcte\n",
    "    correct += (predicted == labels).sum().item()\n",
    "\n",
    "# On affiche le pourcentage de prédictions correctes\n",
    "print(f'Accuracy on train eval set : {correct / len(dataset_trainval) * 100:.2f}%')"
   ]
  }
 ],
 "metadata": {
  "kernelspec": {
   "display_name": "Python 3",
   "language": "python",
   "name": "python3"
  },
  "language_info": {
   "codemirror_mode": {
    "name": "ipython",
    "version": 3
   },
   "file_extension": ".py",
   "mimetype": "text/x-python",
   "name": "python",
   "nbconvert_exporter": "python",
   "pygments_lexer": "ipython3",
   "version": "3.8.5"
  }
 },
 "nbformat": 4,
 "nbformat_minor": 2
}
