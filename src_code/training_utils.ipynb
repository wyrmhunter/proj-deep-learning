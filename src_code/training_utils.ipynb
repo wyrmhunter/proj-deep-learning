{
 "cells": [
  {
   "cell_type": "markdown",
   "metadata": {},
   "source": [
    "# Partie II - Implémentation de Pytorch\n",
    "Le but de cette partie est d'implémenter Pytorch dans des fonctions et classes utilitaires, pour préparer à l'entrainement des modèles que nous allons tester.\n"
   ]
  },
  {
   "cell_type": "markdown",
   "metadata": {},
   "source": [
    "## Installation des librairies et import"
   ]
  },
  {
   "cell_type": "markdown",
   "metadata": {},
   "source": [
    "#### Installation"
   ]
  },
  {
   "cell_type": "code",
   "execution_count": 1,
   "metadata": {},
   "outputs": [
    {
     "name": "stdout",
     "output_type": "stream",
     "text": [
      "Requirement already satisfied: pandas in c:\\users\\scedr\\appdata\\local\\packages\\pythonsoftwarefoundation.python.3.11_qbz5n2kfra8p0\\localcache\\local-packages\\python311\\site-packages (2.1.4)\n",
      "Requirement already satisfied: numpy<2,>=1.23.2 in c:\\users\\scedr\\appdata\\local\\packages\\pythonsoftwarefoundation.python.3.11_qbz5n2kfra8p0\\localcache\\local-packages\\python311\\site-packages (from pandas) (1.26.2)\n",
      "Requirement already satisfied: python-dateutil>=2.8.2 in c:\\users\\scedr\\appdata\\local\\packages\\pythonsoftwarefoundation.python.3.11_qbz5n2kfra8p0\\localcache\\local-packages\\python311\\site-packages (from pandas) (2.8.2)\n",
      "Requirement already satisfied: pytz>=2020.1 in c:\\users\\scedr\\appdata\\local\\packages\\pythonsoftwarefoundation.python.3.11_qbz5n2kfra8p0\\localcache\\local-packages\\python311\\site-packages (from pandas) (2023.3.post1)\n",
      "Requirement already satisfied: tzdata>=2022.1 in c:\\users\\scedr\\appdata\\local\\packages\\pythonsoftwarefoundation.python.3.11_qbz5n2kfra8p0\\localcache\\local-packages\\python311\\site-packages (from pandas) (2023.4)\n",
      "Requirement already satisfied: six>=1.5 in c:\\users\\scedr\\appdata\\local\\packages\\pythonsoftwarefoundation.python.3.11_qbz5n2kfra8p0\\localcache\\local-packages\\python311\\site-packages (from python-dateutil>=2.8.2->pandas) (1.16.0)\n",
      "Requirement already satisfied: matplotlib in c:\\users\\scedr\\appdata\\local\\packages\\pythonsoftwarefoundation.python.3.11_qbz5n2kfra8p0\\localcache\\local-packages\\python311\\site-packages (3.8.2)\n",
      "Requirement already satisfied: contourpy>=1.0.1 in c:\\users\\scedr\\appdata\\local\\packages\\pythonsoftwarefoundation.python.3.11_qbz5n2kfra8p0\\localcache\\local-packages\\python311\\site-packages (from matplotlib) (1.2.0)\n",
      "Requirement already satisfied: cycler>=0.10 in c:\\users\\scedr\\appdata\\local\\packages\\pythonsoftwarefoundation.python.3.11_qbz5n2kfra8p0\\localcache\\local-packages\\python311\\site-packages (from matplotlib) (0.12.1)\n",
      "Requirement already satisfied: fonttools>=4.22.0 in c:\\users\\scedr\\appdata\\local\\packages\\pythonsoftwarefoundation.python.3.11_qbz5n2kfra8p0\\localcache\\local-packages\\python311\\site-packages (from matplotlib) (4.47.0)\n",
      "Requirement already satisfied: kiwisolver>=1.3.1 in c:\\users\\scedr\\appdata\\local\\packages\\pythonsoftwarefoundation.python.3.11_qbz5n2kfra8p0\\localcache\\local-packages\\python311\\site-packages (from matplotlib) (1.4.5)\n",
      "Requirement already satisfied: numpy<2,>=1.21 in c:\\users\\scedr\\appdata\\local\\packages\\pythonsoftwarefoundation.python.3.11_qbz5n2kfra8p0\\localcache\\local-packages\\python311\\site-packages (from matplotlib) (1.26.2)\n",
      "Requirement already satisfied: packaging>=20.0 in c:\\users\\scedr\\appdata\\local\\packages\\pythonsoftwarefoundation.python.3.11_qbz5n2kfra8p0\\localcache\\local-packages\\python311\\site-packages (from matplotlib) (23.2)\n",
      "Requirement already satisfied: pillow>=8 in c:\\users\\scedr\\appdata\\local\\packages\\pythonsoftwarefoundation.python.3.11_qbz5n2kfra8p0\\localcache\\local-packages\\python311\\site-packages (from matplotlib) (10.1.0)\n",
      "Requirement already satisfied: pyparsing>=2.3.1 in c:\\users\\scedr\\appdata\\local\\packages\\pythonsoftwarefoundation.python.3.11_qbz5n2kfra8p0\\localcache\\local-packages\\python311\\site-packages (from matplotlib) (3.1.1)\n",
      "Requirement already satisfied: python-dateutil>=2.7 in c:\\users\\scedr\\appdata\\local\\packages\\pythonsoftwarefoundation.python.3.11_qbz5n2kfra8p0\\localcache\\local-packages\\python311\\site-packages (from matplotlib) (2.8.2)\n",
      "Requirement already satisfied: six>=1.5 in c:\\users\\scedr\\appdata\\local\\packages\\pythonsoftwarefoundation.python.3.11_qbz5n2kfra8p0\\localcache\\local-packages\\python311\\site-packages (from python-dateutil>=2.7->matplotlib) (1.16.0)\n",
      "Requirement already satisfied: pillow in c:\\users\\scedr\\appdata\\local\\packages\\pythonsoftwarefoundation.python.3.11_qbz5n2kfra8p0\\localcache\\local-packages\\python311\\site-packages (10.1.0)\n",
      "Requirement already satisfied: tqdm in c:\\users\\scedr\\appdata\\local\\packages\\pythonsoftwarefoundation.python.3.11_qbz5n2kfra8p0\\localcache\\local-packages\\python311\\site-packages (4.66.1)\n",
      "Requirement already satisfied: colorama in c:\\users\\scedr\\appdata\\local\\packages\\pythonsoftwarefoundation.python.3.11_qbz5n2kfra8p0\\localcache\\local-packages\\python311\\site-packages (from tqdm) (0.4.6)\n",
      "Requirement already satisfied: import-ipynb in c:\\users\\scedr\\appdata\\local\\packages\\pythonsoftwarefoundation.python.3.11_qbz5n2kfra8p0\\localcache\\local-packages\\python311\\site-packages (0.1.4)\n",
      "Requirement already satisfied: IPython in c:\\users\\scedr\\appdata\\local\\packages\\pythonsoftwarefoundation.python.3.11_qbz5n2kfra8p0\\localcache\\local-packages\\python311\\site-packages (from import-ipynb) (8.19.0)\n",
      "Requirement already satisfied: nbformat in c:\\users\\scedr\\appdata\\local\\packages\\pythonsoftwarefoundation.python.3.11_qbz5n2kfra8p0\\localcache\\local-packages\\python311\\site-packages (from import-ipynb) (5.9.2)\n",
      "Requirement already satisfied: decorator in c:\\users\\scedr\\appdata\\local\\packages\\pythonsoftwarefoundation.python.3.11_qbz5n2kfra8p0\\localcache\\local-packages\\python311\\site-packages (from IPython->import-ipynb) (5.1.1)\n",
      "Requirement already satisfied: jedi>=0.16 in c:\\users\\scedr\\appdata\\local\\packages\\pythonsoftwarefoundation.python.3.11_qbz5n2kfra8p0\\localcache\\local-packages\\python311\\site-packages (from IPython->import-ipynb) (0.19.1)\n",
      "Requirement already satisfied: matplotlib-inline in c:\\users\\scedr\\appdata\\local\\packages\\pythonsoftwarefoundation.python.3.11_qbz5n2kfra8p0\\localcache\\local-packages\\python311\\site-packages (from IPython->import-ipynb) (0.1.6)\n",
      "Requirement already satisfied: prompt-toolkit<3.1.0,>=3.0.41 in c:\\users\\scedr\\appdata\\local\\packages\\pythonsoftwarefoundation.python.3.11_qbz5n2kfra8p0\\localcache\\local-packages\\python311\\site-packages (from IPython->import-ipynb) (3.0.43)\n",
      "Requirement already satisfied: pygments>=2.4.0 in c:\\users\\scedr\\appdata\\local\\packages\\pythonsoftwarefoundation.python.3.11_qbz5n2kfra8p0\\localcache\\local-packages\\python311\\site-packages (from IPython->import-ipynb) (2.17.2)\n",
      "Requirement already satisfied: stack-data in c:\\users\\scedr\\appdata\\local\\packages\\pythonsoftwarefoundation.python.3.11_qbz5n2kfra8p0\\localcache\\local-packages\\python311\\site-packages (from IPython->import-ipynb) (0.6.3)\n",
      "Requirement already satisfied: traitlets>=5 in c:\\users\\scedr\\appdata\\local\\packages\\pythonsoftwarefoundation.python.3.11_qbz5n2kfra8p0\\localcache\\local-packages\\python311\\site-packages (from IPython->import-ipynb) (5.14.0)\n",
      "Requirement already satisfied: colorama in c:\\users\\scedr\\appdata\\local\\packages\\pythonsoftwarefoundation.python.3.11_qbz5n2kfra8p0\\localcache\\local-packages\\python311\\site-packages (from IPython->import-ipynb) (0.4.6)\n",
      "Requirement already satisfied: fastjsonschema in c:\\users\\scedr\\appdata\\local\\packages\\pythonsoftwarefoundation.python.3.11_qbz5n2kfra8p0\\localcache\\local-packages\\python311\\site-packages (from nbformat->import-ipynb) (2.19.1)\n",
      "Requirement already satisfied: jsonschema>=2.6 in c:\\users\\scedr\\appdata\\local\\packages\\pythonsoftwarefoundation.python.3.11_qbz5n2kfra8p0\\localcache\\local-packages\\python311\\site-packages (from nbformat->import-ipynb) (4.20.0)\n",
      "Requirement already satisfied: jupyter-core in c:\\users\\scedr\\appdata\\local\\packages\\pythonsoftwarefoundation.python.3.11_qbz5n2kfra8p0\\localcache\\local-packages\\python311\\site-packages (from nbformat->import-ipynb) (5.5.1)\n",
      "Requirement already satisfied: parso<0.9.0,>=0.8.3 in c:\\users\\scedr\\appdata\\local\\packages\\pythonsoftwarefoundation.python.3.11_qbz5n2kfra8p0\\localcache\\local-packages\\python311\\site-packages (from jedi>=0.16->IPython->import-ipynb) (0.8.3)\n",
      "Requirement already satisfied: attrs>=22.2.0 in c:\\users\\scedr\\appdata\\local\\packages\\pythonsoftwarefoundation.python.3.11_qbz5n2kfra8p0\\localcache\\local-packages\\python311\\site-packages (from jsonschema>=2.6->nbformat->import-ipynb) (23.2.0)\n",
      "Requirement already satisfied: jsonschema-specifications>=2023.03.6 in c:\\users\\scedr\\appdata\\local\\packages\\pythonsoftwarefoundation.python.3.11_qbz5n2kfra8p0\\localcache\\local-packages\\python311\\site-packages (from jsonschema>=2.6->nbformat->import-ipynb) (2023.12.1)\n",
      "Requirement already satisfied: referencing>=0.28.4 in c:\\users\\scedr\\appdata\\local\\packages\\pythonsoftwarefoundation.python.3.11_qbz5n2kfra8p0\\localcache\\local-packages\\python311\\site-packages (from jsonschema>=2.6->nbformat->import-ipynb) (0.32.0)\n",
      "Requirement already satisfied: rpds-py>=0.7.1 in c:\\users\\scedr\\appdata\\local\\packages\\pythonsoftwarefoundation.python.3.11_qbz5n2kfra8p0\\localcache\\local-packages\\python311\\site-packages (from jsonschema>=2.6->nbformat->import-ipynb) (0.16.2)\n",
      "Requirement already satisfied: wcwidth in c:\\users\\scedr\\appdata\\local\\packages\\pythonsoftwarefoundation.python.3.11_qbz5n2kfra8p0\\localcache\\local-packages\\python311\\site-packages (from prompt-toolkit<3.1.0,>=3.0.41->IPython->import-ipynb) (0.2.12)\n",
      "Requirement already satisfied: platformdirs>=2.5 in c:\\users\\scedr\\appdata\\local\\packages\\pythonsoftwarefoundation.python.3.11_qbz5n2kfra8p0\\localcache\\local-packages\\python311\\site-packages (from jupyter-core->nbformat->import-ipynb) (4.1.0)\n",
      "Requirement already satisfied: pywin32>=300 in c:\\users\\scedr\\appdata\\local\\packages\\pythonsoftwarefoundation.python.3.11_qbz5n2kfra8p0\\localcache\\local-packages\\python311\\site-packages (from jupyter-core->nbformat->import-ipynb) (306)\n",
      "Requirement already satisfied: executing>=1.2.0 in c:\\users\\scedr\\appdata\\local\\packages\\pythonsoftwarefoundation.python.3.11_qbz5n2kfra8p0\\localcache\\local-packages\\python311\\site-packages (from stack-data->IPython->import-ipynb) (2.0.1)\n",
      "Requirement already satisfied: asttokens>=2.1.0 in c:\\users\\scedr\\appdata\\local\\packages\\pythonsoftwarefoundation.python.3.11_qbz5n2kfra8p0\\localcache\\local-packages\\python311\\site-packages (from stack-data->IPython->import-ipynb) (2.4.1)\n",
      "Requirement already satisfied: pure-eval in c:\\users\\scedr\\appdata\\local\\packages\\pythonsoftwarefoundation.python.3.11_qbz5n2kfra8p0\\localcache\\local-packages\\python311\\site-packages (from stack-data->IPython->import-ipynb) (0.2.2)\n",
      "Requirement already satisfied: six>=1.12.0 in c:\\users\\scedr\\appdata\\local\\packages\\pythonsoftwarefoundation.python.3.11_qbz5n2kfra8p0\\localcache\\local-packages\\python311\\site-packages (from asttokens>=2.1.0->stack-data->IPython->import-ipynb) (1.16.0)\n",
      "Requirement already satisfied: torch in c:\\users\\scedr\\appdata\\local\\packages\\pythonsoftwarefoundation.python.3.11_qbz5n2kfra8p0\\localcache\\local-packages\\python311\\site-packages (2.1.2)\n",
      "Requirement already satisfied: filelock in c:\\users\\scedr\\appdata\\local\\packages\\pythonsoftwarefoundation.python.3.11_qbz5n2kfra8p0\\localcache\\local-packages\\python311\\site-packages (from torch) (3.13.1)\n",
      "Requirement already satisfied: typing-extensions in c:\\users\\scedr\\appdata\\local\\packages\\pythonsoftwarefoundation.python.3.11_qbz5n2kfra8p0\\localcache\\local-packages\\python311\\site-packages (from torch) (4.9.0)\n",
      "Requirement already satisfied: sympy in c:\\users\\scedr\\appdata\\local\\packages\\pythonsoftwarefoundation.python.3.11_qbz5n2kfra8p0\\localcache\\local-packages\\python311\\site-packages (from torch) (1.12)\n",
      "Requirement already satisfied: networkx in c:\\users\\scedr\\appdata\\local\\packages\\pythonsoftwarefoundation.python.3.11_qbz5n2kfra8p0\\localcache\\local-packages\\python311\\site-packages (from torch) (3.2.1)\n",
      "Requirement already satisfied: jinja2 in c:\\users\\scedr\\appdata\\local\\packages\\pythonsoftwarefoundation.python.3.11_qbz5n2kfra8p0\\localcache\\local-packages\\python311\\site-packages (from torch) (3.1.2)\n",
      "Requirement already satisfied: fsspec in c:\\users\\scedr\\appdata\\local\\packages\\pythonsoftwarefoundation.python.3.11_qbz5n2kfra8p0\\localcache\\local-packages\\python311\\site-packages (from torch) (2023.12.2)\n",
      "Requirement already satisfied: MarkupSafe>=2.0 in c:\\users\\scedr\\appdata\\local\\packages\\pythonsoftwarefoundation.python.3.11_qbz5n2kfra8p0\\localcache\\local-packages\\python311\\site-packages (from jinja2->torch) (2.1.3)\n",
      "Requirement already satisfied: mpmath>=0.19 in c:\\users\\scedr\\appdata\\local\\packages\\pythonsoftwarefoundation.python.3.11_qbz5n2kfra8p0\\localcache\\local-packages\\python311\\site-packages (from sympy->torch) (1.3.0)\n",
      "Requirement already satisfied: torchvision in c:\\users\\scedr\\appdata\\local\\packages\\pythonsoftwarefoundation.python.3.11_qbz5n2kfra8p0\\localcache\\local-packages\\python311\\site-packages (0.16.2)\n",
      "Requirement already satisfied: numpy in c:\\users\\scedr\\appdata\\local\\packages\\pythonsoftwarefoundation.python.3.11_qbz5n2kfra8p0\\localcache\\local-packages\\python311\\site-packages (from torchvision) (1.26.2)\n",
      "Requirement already satisfied: requests in c:\\users\\scedr\\appdata\\local\\packages\\pythonsoftwarefoundation.python.3.11_qbz5n2kfra8p0\\localcache\\local-packages\\python311\\site-packages (from torchvision) (2.31.0)\n",
      "Requirement already satisfied: torch==2.1.2 in c:\\users\\scedr\\appdata\\local\\packages\\pythonsoftwarefoundation.python.3.11_qbz5n2kfra8p0\\localcache\\local-packages\\python311\\site-packages (from torchvision) (2.1.2)\n",
      "Requirement already satisfied: pillow!=8.3.*,>=5.3.0 in c:\\users\\scedr\\appdata\\local\\packages\\pythonsoftwarefoundation.python.3.11_qbz5n2kfra8p0\\localcache\\local-packages\\python311\\site-packages (from torchvision) (10.1.0)\n",
      "Requirement already satisfied: filelock in c:\\users\\scedr\\appdata\\local\\packages\\pythonsoftwarefoundation.python.3.11_qbz5n2kfra8p0\\localcache\\local-packages\\python311\\site-packages (from torch==2.1.2->torchvision) (3.13.1)\n",
      "Requirement already satisfied: typing-extensions in c:\\users\\scedr\\appdata\\local\\packages\\pythonsoftwarefoundation.python.3.11_qbz5n2kfra8p0\\localcache\\local-packages\\python311\\site-packages (from torch==2.1.2->torchvision) (4.9.0)\n",
      "Requirement already satisfied: sympy in c:\\users\\scedr\\appdata\\local\\packages\\pythonsoftwarefoundation.python.3.11_qbz5n2kfra8p0\\localcache\\local-packages\\python311\\site-packages (from torch==2.1.2->torchvision) (1.12)\n",
      "Requirement already satisfied: networkx in c:\\users\\scedr\\appdata\\local\\packages\\pythonsoftwarefoundation.python.3.11_qbz5n2kfra8p0\\localcache\\local-packages\\python311\\site-packages (from torch==2.1.2->torchvision) (3.2.1)\n",
      "Requirement already satisfied: jinja2 in c:\\users\\scedr\\appdata\\local\\packages\\pythonsoftwarefoundation.python.3.11_qbz5n2kfra8p0\\localcache\\local-packages\\python311\\site-packages (from torch==2.1.2->torchvision) (3.1.2)\n",
      "Requirement already satisfied: fsspec in c:\\users\\scedr\\appdata\\local\\packages\\pythonsoftwarefoundation.python.3.11_qbz5n2kfra8p0\\localcache\\local-packages\\python311\\site-packages (from torch==2.1.2->torchvision) (2023.12.2)\n",
      "Requirement already satisfied: charset-normalizer<4,>=2 in c:\\users\\scedr\\appdata\\local\\packages\\pythonsoftwarefoundation.python.3.11_qbz5n2kfra8p0\\localcache\\local-packages\\python311\\site-packages (from requests->torchvision) (3.3.2)\n",
      "Requirement already satisfied: idna<4,>=2.5 in c:\\users\\scedr\\appdata\\local\\packages\\pythonsoftwarefoundation.python.3.11_qbz5n2kfra8p0\\localcache\\local-packages\\python311\\site-packages (from requests->torchvision) (3.6)\n",
      "Requirement already satisfied: urllib3<3,>=1.21.1 in c:\\users\\scedr\\appdata\\local\\packages\\pythonsoftwarefoundation.python.3.11_qbz5n2kfra8p0\\localcache\\local-packages\\python311\\site-packages (from requests->torchvision) (2.1.0)\n",
      "Requirement already satisfied: certifi>=2017.4.17 in c:\\users\\scedr\\appdata\\local\\packages\\pythonsoftwarefoundation.python.3.11_qbz5n2kfra8p0\\localcache\\local-packages\\python311\\site-packages (from requests->torchvision) (2023.11.17)\n",
      "Requirement already satisfied: MarkupSafe>=2.0 in c:\\users\\scedr\\appdata\\local\\packages\\pythonsoftwarefoundation.python.3.11_qbz5n2kfra8p0\\localcache\\local-packages\\python311\\site-packages (from jinja2->torch==2.1.2->torchvision) (2.1.3)\n",
      "Requirement already satisfied: mpmath>=0.19 in c:\\users\\scedr\\appdata\\local\\packages\\pythonsoftwarefoundation.python.3.11_qbz5n2kfra8p0\\localcache\\local-packages\\python311\\site-packages (from sympy->torch==2.1.2->torchvision) (1.3.0)\n"
     ]
    }
   ],
   "source": [
    "# Installation des librairies nécessaires :\n",
    "! pip install pandas\n",
    "! pip install matplotlib\n",
    "! pip install pillow\n",
    "! pip install tqdm\n",
    "! pip install import-ipynb\n",
    "! pip install torch\n",
    "! pip install torchvision"
   ]
  },
  {
   "cell_type": "markdown",
   "metadata": {},
   "source": [
    "## Définition des classes pour l'entrainement\n",
    "Les classes et méthodes définies plus bas sont indépendantes d'un modèle en particulier."
   ]
  },
  {
   "cell_type": "markdown",
   "metadata": {},
   "source": [
    "### Classe ImageProcessor (redimensionnement et traitement des images)\n",
    "\n",
    "On redimensionne les images pour une question de gestion de la mémoire. Les images de base pouvant peser jusqu'à plusieurs centaines de Mo, pytorch peut planter lorsqu'il tente de les transformer en tenseurs.\n",
    "\n",
    "On les redimensionne donc à la taille :\n",
    "- 256*256\n",
    "- 500*500\n",
    "\n",
    "*Deux tailles différentes pour tester l'impact du nombre de pixels sur les performances du modèle.*"
   ]
  },
  {
   "cell_type": "code",
   "execution_count": 1,
   "metadata": {},
   "outputs": [],
   "source": [
    "# Nos images sont stockées dans un dossier images/images\n",
    "# Ces images pèsent bien trop lourd pour être transformées en tenseurs et être traitées par le modèle\n",
    "# On va donc les réduire à une taille de 256x256 pixels\n",
    "# On va aussi les normaliser en divisant les valeurs des pixels par 255\n",
    "# On sauvegarde les images dans un dossier images/images_256\n",
    "# On crée une fonction qui prend en argument un dataframe et qui sauvegarde les images dans un dossier images/images_256\n",
    "# On souhaite aussi que la fonction aie une barre de progression\n",
    "\n",
    "# chemin vers les images du dataset\n",
    "dataset_path = '../../DATASET/'\n",
    "\n",
    "from tqdm import tqdm\n",
    "import pandas as pd\n",
    "import os\n",
    "from PIL import Image\n",
    "\n",
    "def resize_images(df, set_name,size):\n",
    "    # On crée un dossier images/images_256 s'il n'existe pas déjà\n",
    "    if not os.path.exists(dataset_path + 'images_'+str(size)+'_'+set_name):\n",
    "        os.makedirs(dataset_path + 'images_'+str(size)+'_'+set_name)\n",
    "    \n",
    "    # On affiche la barre de progression sous forme de pourcentage sur le notebook\n",
    "    pbar = tqdm(total=len(df), position=0, leave=True)\n",
    "\n",
    "    # On parcourt le dataframe\n",
    "    for index, row in df.iterrows():\n",
    "        # On ouvre l'image\n",
    "        img = Image.open(dataset_path + 'images/' + row['img_name'])\n",
    "        # On redimensionne l'image\n",
    "        img = img.resize((size,size))\n",
    "        # On augmente le contraste de l'image\n",
    "        img = img.point(lambda x: x*1.5)\n",
    "\n",
    "        # On sauvegarde l'image\n",
    "        img.save(dataset_path + 'images_'+str(size)+'_'+set_name+'/' + row['img_name'])\n",
    "        # On met à jour la barre de progression\n",
    "        pbar.update(1)\n",
    "\n",
    "    print('Images redimensionnées et sauvegardées dans : ' + dataset_path + 'images_'+str(size)+'_'+set_name)\n",
    "    # On ferme la barre de progression\n",
    "    pbar.close()\n",
    "    \n",
    "\n"
   ]
  },
  {
   "cell_type": "code",
   "execution_count": 3,
   "metadata": {},
   "outputs": [],
   "source": [
    "# On transforme les images en tenseurs avec pytorch\n",
    "import torch\n",
    "from torchvision import transforms\n",
    "from PIL import Image\n",
    "\n",
    "# On crée une fonction qui prend en argument le chemin vers une image et qui retourne un tenseur\n",
    "def img_to_tensor(img_path):\n",
    "    # On ouvre l'image\n",
    "    img = Image.open(img_path)\n",
    "    # On transforme l'image en tenseur\n",
    "    img_tensor = transforms.ToTensor()(img)\n",
    "    # On retourne le tenseur\n",
    "    return img_tensor\n",
    "\n",
    "# On crée une fonction qui prend en argument un dataframe et qui retourne un dictionnaire \n",
    "# contenant le nom du fichier image et le tenseur correspondant\n",
    "def get_img_tensor_dict(df,set_name,size):\n",
    "    # On crée un dictionnaire vide\n",
    "    img_tensor_dict = {}\n",
    "    # On parcourt le dataframe\n",
    "    for index, row in df.iterrows():\n",
    "        # On crée le chemin vers l'image\n",
    "        img_path = dataset_path +'images_'+str(size)+'_'+set_name+'/'+ row['img_name']\n",
    "        # On transforme l'image en tenseur\n",
    "        img_tensor = img_to_tensor(img_path)\n",
    "        # On ajoute le nom du fichier image et le tenseur correspondant au dictionnaire\n",
    "        img_tensor_dict[row['img_name']] = img_tensor\n",
    "    # On retourne le dictionnaire\n",
    "    print('Dictionnaire créé pour le set '+set_name+ ' de taille : '+str(size)+'x'+str(size))\n",
    "    print('Nombre d\\'images dans le set : '+str(len(img_tensor_dict)))\n",
    "\n",
    "    return img_tensor_dict\n",
    "\n",
    "\n",
    "\n"
   ]
  },
  {
   "cell_type": "code",
   "execution_count": null,
   "metadata": {},
   "outputs": [],
   "source": [
    "# On implémente les fonctions de traitement d'image dans une classe ImageProcessor\n",
    "\n",
    "class ImageProcessor:\n",
    "    def __init__(self):\n",
    "        pass\n",
    "\n",
    "    def generate_img_tensors(self,df,set_name,size):\n",
    "        tensors = get_img_tensor_dict(df,set_name,size)\n",
    "        return tensors\n",
    "    \n",
    "    def resize_images(self,df,set_name,size):\n",
    "        resize_images(df, set_name,size)\n",
    "\n",
    " "
   ]
  },
  {
   "cell_type": "markdown",
   "metadata": {},
   "source": [
    "### Classe LabelMap\n",
    "La classe LabelMap permet d'assigner automatique à chaque super-classe de style architectural son propre tenseur, pour la rendre exploitable en tant que label par le modèle."
   ]
  },
  {
   "cell_type": "code",
   "execution_count": null,
   "metadata": {},
   "outputs": [],
   "source": [
    "# On créé une fonction qui mappe les labels aux noms des styles architecturaux\n",
    "def create_label_map(df):\n",
    "    print('No found label mapping, creating a new one...')\n",
    "    unique_labels = df.iloc[:, 1].unique()\n",
    "    label_map = {label: idx for idx, label in enumerate(unique_labels)}\n",
    "    print(\"Label mapping is the following :\")\n",
    "    display(label_map)\n",
    "    # On sauvegarde le label_map dans un fichier csv\n",
    "    df_label_map = pd.DataFrame.from_dict(label_map, orient='index', columns=['label'])\n",
    "    df_label_map.to_csv('../dataset_doc/csv/label_map.csv')\n",
    "    return label_map"
   ]
  },
  {
   "cell_type": "code",
   "execution_count": null,
   "metadata": {},
   "outputs": [],
   "source": [
    "# On créé une fonction pour lire un label_map à partir d'un fichier csv\n",
    "\n",
    "\n",
    "\n",
    "def read_label_map(label_map_path):\n",
    "    print('Found label mapping, reading it...')\n",
    "    label_map = pd.read_csv(label_map_path, index_col=0)\n",
    "    label_map = label_map.to_dict()['label']\n",
    "    print(\"Label mapping is the following :\")\n",
    "    display(label_map)\n",
    "    return label_map"
   ]
  },
  {
   "cell_type": "code",
   "execution_count": null,
   "metadata": {},
   "outputs": [],
   "source": [
    "# On créé une classe LabelMap\n",
    "class LabelMap:\n",
    "    def __init__(self):\n",
    "        pass\n",
    "\n",
    "    def create_label_map(self,df):\n",
    "        label_map = create_label_map(df)\n",
    "        return label_map\n",
    "    \n",
    "    def read_label_map(self,label_map_path):\n",
    "        label_map = read_label_map(label_map_path)\n",
    "        return label_map"
   ]
  },
  {
   "cell_type": "markdown",
   "metadata": {},
   "source": [
    "### Classe CustomDataset"
   ]
  },
  {
   "cell_type": "markdown",
   "metadata": {},
   "source": [
    "La classe CustomDataset implémente le module Dataset de Pytorch.\n",
    "Elle permet de faire passer à un modèle les tenseurs d'images ainsi que les labels.\\\n",
    "Elle permet aussi de mapper les labels (c'est à dire associer un tenseur à chaque label afin de le rendre \"ingérable\" par le modèle)."
   ]
  },
  {
   "cell_type": "code",
   "execution_count": null,
   "metadata": {},
   "outputs": [],
   "source": [
    "# On créé un dataset custom contenant les tenseurs des images et les labels\n",
    "from torch.utils.data import Dataset\n",
    "\n",
    "class CustomDataset(Dataset):\n",
    "    def __init__(self, img_tensor_dict, df, label_map):\n",
    "        self.img_tensor_dict = img_tensor_dict\n",
    "        self.df = df\n",
    "        self.label_map = label_map\n",
    "\n",
    "    def __len__(self):\n",
    "        return len(self.df)\n",
    "\n",
    "    def __getitem__(self, index):\n",
    "        # On récupère le nom du fichier image\n",
    "        img_name = self.df['img_name'][index]\n",
    "        # On récupère le tenseur correspondant\n",
    "        img_tensor = self.img_tensor_dict[img_name]\n",
    "        # On récupère le label\n",
    "        label_str = self.df['parent_id'][index]\n",
    "        label = self.label_map[label_str]\n",
    "        # On retourne le tenseur et le label\n",
    "        return img_tensor, label\n",
    "    \n",
    "    "
   ]
  },
  {
   "cell_type": "markdown",
   "metadata": {},
   "source": [
    "### Classe Trainer (et fonction d'entrainement)"
   ]
  },
  {
   "cell_type": "code",
   "execution_count": null,
   "metadata": {},
   "outputs": [],
   "source": [
    "# On créé une fonction d'entrainement du modèle\n",
    "# Cette fonction possède aussi une barre de progression sous forme de pourcentage avec tqdm\n",
    "# Cette barre de progression se rempli à chaque epoch\n",
    "\n",
    "def train_model(model, dataloader, epochs, optimizer, criterion):\n",
    "\n",
    "    # On parcourt les epochs\n",
    "    for epoch in range(epochs):\n",
    "\n",
    "       \n",
    "\n",
    "        # On affiche l'epoch en cours\n",
    "        print(f'epoch {epoch+1}/{epochs}')\n",
    "\n",
    "        # On affiche la barre de progression sous forme de pourcentage sur le notebook\n",
    "        pbar = tqdm(total=len(dataloader), position=0, leave=True)\n",
    "\n",
    "        \n",
    "\n",
    "        # On initialise la running_loss à 0\n",
    "        running_loss = 0.0\n",
    "\n",
    "        # On parcourt les batches du dataloader\n",
    "        for i, data in enumerate(dataloader, 0):\n",
    "\n",
    "            # On affiche la barre de progression sous forme de pourcentage sur le notebook\n",
    "            pbar.update(1)\n",
    "\n",
    "            # On récupère les tenseurs et les labels\n",
    "            inputs, labels = data\n",
    "\n",
    "            # On met les gradients à zéro\n",
    "            optimizer.zero_grad()\n",
    "\n",
    "            # On fait une prédiction\n",
    "            outputs = model(inputs)\n",
    "\n",
    "            # On calcule la fonction de coût\n",
    "            loss = criterion(outputs, labels)\n",
    "\n",
    "            # On calcule les gradients\n",
    "            loss.backward()\n",
    "\n",
    "            # On met à jour les paramètres\n",
    "            optimizer.step()\n",
    "\n",
    "            # Tous les 20 batches, on affiche :\n",
    "            running_loss += loss.item()\n",
    "            if i % 200 == 199:    # print every 20 mini-batches\n",
    "                print(f'[{epoch + 1}, {i + 1:5d}] loss: {running_loss / 200:.3f}')\n",
    "                running_loss = 0.0\n",
    "\n",
    "    # On ferme la barre de progression\n",
    "    pbar.close()\n",
    "    \n",
    "    # On retourne le modèle\n",
    "    return model"
   ]
  },
  {
   "cell_type": "code",
   "execution_count": null,
   "metadata": {},
   "outputs": [],
   "source": [
    "# On créé la classe Trainer qui implémente la fonction d'entrainement du modèle\n",
    "class Trainer:\n",
    "    def __init__(self, model, dataloader, epochs, optimizer, criterion):\n",
    "        self.model = model\n",
    "        self.dataloader = dataloader\n",
    "        self.epochs = epochs\n",
    "        self.optimizer = optimizer\n",
    "        self.criterion = criterion\n",
    "    \n",
    "    def train_model(self):\n",
    "        train_model(self.model, self.dataloader, self.epochs, self.optimizer, self.criterion)\n",
    "        return self.model"
   ]
  },
  {
   "cell_type": "markdown",
   "metadata": {},
   "source": [
    "# Conclusion :\n",
    "\n",
    "Les classes et méthodes définies dans cette parties peuvent être utilisées lors de l'entrainement de n'importe quel modèle dans le notebook `cnn_tests.ipynb`, conjointement avec la classe `Subset` du notebook `dataset_utils.ipynb`."
   ]
  }
 ],
 "metadata": {
  "kernelspec": {
   "display_name": "Python 3",
   "language": "python",
   "name": "python3"
  },
  "language_info": {
   "codemirror_mode": {
    "name": "ipython",
    "version": 3
   },
   "file_extension": ".py",
   "mimetype": "text/x-python",
   "name": "python",
   "nbconvert_exporter": "python",
   "pygments_lexer": "ipython3",
   "version": "3.11.7"
  }
 },
 "nbformat": 4,
 "nbformat_minor": 2
}
